{
 "cells": [
  {
   "cell_type": "markdown",
   "metadata": {},
   "source": [
    "#### Algorithms"
   ]
  },
  {
   "cell_type": "markdown",
   "metadata": {},
   "source": [
    "- min max  in an list "
   ]
  },
  {
   "cell_type": "code",
   "execution_count": 1,
   "metadata": {},
   "outputs": [
    {
     "name": "stdin",
     "output_type": "stream",
     "text": [
      "Enter the list items :  \n"
     ]
    }
   ],
   "source": [
    "lst1 = [int(item) for item in input(\"Enter the list items : \").split()] "
   ]
  },
  {
   "cell_type": "code",
   "execution_count": 2,
   "metadata": {},
   "outputs": [
    {
     "name": "stdin",
     "output_type": "stream",
     "text": [
      "list 1\n"
     ]
    },
    {
     "name": "stdout",
     "output_type": "stream",
     "text": [
      "[1]\n"
     ]
    }
   ],
   "source": [
    "listt = [ int(i)  for i in input(\"list\").split()]\n",
    "print(listt)"
   ]
  },
  {
   "cell_type": "code",
   "execution_count": 18,
   "metadata": {},
   "outputs": [
    {
     "name": "stdout",
     "output_type": "stream",
     "text": [
      "1\n"
     ]
    }
   ],
   "source": [
    "# min   in an list \n",
    "listt = [ int(i)  for i in input(\"list\").split()]\n",
    "print(listt)\n",
    "min =46547578896567\n",
    "for i in listt:\n",
    "    if min> i :\n",
    "        min = i \n",
    "print(min)"
   ]
  },
  {
   "cell_type": "code",
   "execution_count": 19,
   "metadata": {},
   "outputs": [],
   "source": [
    "#linear Search "
   ]
  },
  {
   "cell_type": "code",
   "execution_count": 3,
   "metadata": {},
   "outputs": [
    {
     "name": "stdin",
     "output_type": "stream",
     "text": [
      " 234\n"
     ]
    },
    {
     "name": "stdout",
     "output_type": "stream",
     "text": [
      "found \n"
     ]
    }
   ],
   "source": [
    "listt = [ i  for i in range(1000)]\n",
    "\n",
    "x = 0 \n",
    "b = int(input())\n",
    "for i in listt:\n",
    "    if i==b:\n",
    "        x = 1 \n",
    "        print(\"found \")\n",
    "        break \n",
    "\n",
    "if(x==0):\n",
    "    print(\"Not Found\")\n"
   ]
  },
  {
   "cell_type": "code",
   "execution_count": null,
   "metadata": {},
   "outputs": [],
   "source": [
    "binary Search --> Sorted Data [ ]"
   ]
  },
  {
   "cell_type": "code",
   "execution_count": 5,
   "metadata": {},
   "outputs": [
    {
     "name": "stdin",
     "output_type": "stream",
     "text": [
      " 998\n"
     ]
    },
    {
     "name": "stdout",
     "output_type": "stream",
     "text": [
      "found\n",
      "8\n"
     ]
    }
   ],
   "source": [
    "listt = [ i  for i in range(1000)]\n",
    "\n",
    "start = 0 \n",
    "x = 0 \n",
    "no = int(input())\n",
    "end = len(listt)-1 \n",
    "count = 0 \n",
    "while(start <=end):\n",
    "    mid = (start + end) // 2 \n",
    "    if(listt[mid]== no):\n",
    "        print(\"found\")\n",
    "        x=1 \n",
    "        break \n",
    "    elif(listt[mid] > no):\n",
    "        end= mid - 1 \n",
    "    else:\n",
    "        start = mid + 1 \n",
    "    count+=1 \n",
    "if(x==0):\n",
    "    print(\"Not Found\")\n",
    "print(count)"
   ]
  },
  {
   "cell_type": "code",
   "execution_count": 13,
   "metadata": {},
   "outputs": [
    {
     "name": "stdin",
     "output_type": "stream",
     "text": [
      "Enter the no  1\n"
     ]
    },
    {
     "name": "stdout",
     "output_type": "stream",
     "text": [
      "[1]\n"
     ]
    }
   ],
   "source": [
    "listt =[]\n",
    "for i in input(\"Enter the no \").split():\n",
    "    listt.append(int(i))\n",
    "print(listt)"
   ]
  },
  {
   "cell_type": "code",
   "execution_count": null,
   "metadata": {},
   "outputs": [],
   "source": []
  },
  {
   "cell_type": "code",
   "execution_count": 10,
   "metadata": {},
   "outputs": [
    {
     "name": "stdin",
     "output_type": "stream",
     "text": [
      "Enter the no  1 2  4 55 6 6 644 \n"
     ]
    },
    {
     "name": "stdout",
     "output_type": "stream",
     "text": [
      "[1, 2, 4, 55, 6, 6, 644]\n"
     ]
    }
   ],
   "source": [
    "listt= []\n",
    "for i in input(\"Enter the no \").split():\n",
    "    listt.append(int(i))\n",
    "print(listt)"
   ]
  },
  {
   "cell_type": "markdown",
   "metadata": {},
   "source": [
    "- sorting"
   ]
  },
  {
   "cell_type": "code",
   "execution_count": 16,
   "metadata": {},
   "outputs": [
    {
     "name": "stdout",
     "output_type": "stream",
     "text": [
      "[11, 17, 22, 34, 40, 45, 67]\n",
      "42\n"
     ]
    }
   ],
   "source": [
    "listt =  [67, 45, 40, 34, 22, 17, 11]\n",
    "i = 0 \n",
    "n = len(listt)\n",
    "count=0\n",
    "while(i<n):\n",
    "    j=0\n",
    "    while(j <n- i -1):\n",
    "        if(listt[j]>listt[j+1]):\n",
    "            listt[j], listt[j+1] = listt[j+1], listt[j]\n",
    "        j+=1\n",
    "        count+=1\n",
    "    i+=1\n",
    "print(listt)\n",
    "print(count)"
   ]
  },
  {
   "cell_type": "code",
   "execution_count": null,
   "metadata": {},
   "outputs": [],
   "source": []
  }
 ],
 "metadata": {
  "kernelspec": {
   "display_name": "Python 3",
   "language": "python",
   "name": "python3"
  },
  "language_info": {
   "codemirror_mode": {
    "name": "ipython",
    "version": 3
   },
   "file_extension": ".py",
   "mimetype": "text/x-python",
   "name": "python",
   "nbconvert_exporter": "python",
   "pygments_lexer": "ipython3",
   "version": "3.7.4"
  }
 },
 "nbformat": 4,
 "nbformat_minor": 4
}
