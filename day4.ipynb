{
 "cells": [
  {
   "cell_type": "markdown",
   "metadata": {},
   "source": [
    "#### Algorithms"
   ]
  },
  {
   "cell_type": "markdown",
   "metadata": {},
   "source": [
    "- min max  in an list "
   ]
  },
  {
   "cell_type": "code",
   "execution_count": 1,
   "metadata": {},
   "outputs": [
    {
     "name": "stdin",
     "output_type": "stream",
     "text": [
      "Enter the list items :  \n"
     ]
    }
   ],
   "source": [
    "lst1 = [int(item) for item in input(\"Enter the list items : \").split()] "
   ]
  },
  {
   "cell_type": "code",
   "execution_count": 22,
   "metadata": {},
   "outputs": [
    {
     "name": "stdin",
     "output_type": "stream",
     "text": [
      "list 1 2 3 \n"
     ]
    },
    {
     "name": "stdout",
     "output_type": "stream",
     "text": [
      "[1, 2, 3]\n"
     ]
    }
   ],
   "source": [
    "listt = [ int(i)  for i in input(\"list\").split()]\n",
    "print(listt)"
   ]
  },
  {
   "cell_type": "code",
   "execution_count": 18,
   "metadata": {},
   "outputs": [
    {
     "name": "stdout",
     "output_type": "stream",
     "text": [
      "1\n"
     ]
    }
   ],
   "source": [
    "# min   in an list \n",
    "listt = [ int(i)  for i in input(\"list\").split()]\n",
    "print(listt)\n",
    "min =46547578896567\n",
    "for i in listt:\n",
    "    if min> i :\n",
    "        min = i \n",
    "print(min)"
   ]
  },
  {
   "cell_type": "code",
   "execution_count": 24,
   "metadata": {},
   "outputs": [
    {
     "name": "stdin",
     "output_type": "stream",
     "text": [
      "list 1 0 11 2 4 54 23 5 55\n"
     ]
    },
    {
     "name": "stdout",
     "output_type": "stream",
     "text": [
      "[1, 0, 11, 2, 4, 54, 23, 5, 55]\n",
      "0\n",
      "55\n"
     ]
    }
   ],
   "source": [
    "listt = [ int(i)  for i in input(\"list\").split()]\n",
    "print(listt)\n",
    "min =46547578896567\n",
    "for i in listt:\n",
    "    if min > i:\n",
    "        min = i \n",
    "print(min)\n",
    "max =-46547578896567\n",
    "for i in listt:\n",
    "    if max < i:\n",
    "        max = i \n",
    "print(max)"
   ]
  },
  {
   "cell_type": "code",
   "execution_count": 19,
   "metadata": {},
   "outputs": [],
   "source": [
    "#linear Search "
   ]
  },
  {
   "cell_type": "code",
   "execution_count": 34,
   "metadata": {},
   "outputs": [
    {
     "name": "stdin",
     "output_type": "stream",
     "text": [
      "Enter the no  1004\n"
     ]
    },
    {
     "name": "stdout",
     "output_type": "stream",
     "text": [
      " Not Found \n"
     ]
    }
   ],
   "source": [
    "listt = [ i  for i in range(1000)]\n",
    "num = int(input(\"Enter the no \"))\n",
    "flag = 0 \n",
    "for i in listt:\n",
    "    if i==num:\n",
    "        flag = 1 \n",
    "        \n",
    "        break\n",
    "if(flag==0):\n",
    "    print(\" Not Found \")\n",
    "else:\n",
    "    print(\"found\")"
   ]
  },
  {
   "cell_type": "markdown",
   "metadata": {},
   "source": [
    "- binary Search --> Sorted Data [ ]"
   ]
  },
  {
   "cell_type": "code",
   "execution_count": 5,
   "metadata": {},
   "outputs": [
    {
     "name": "stdin",
     "output_type": "stream",
     "text": [
      " 998\n"
     ]
    },
    {
     "name": "stdout",
     "output_type": "stream",
     "text": [
      "found\n",
      "8\n"
     ]
    }
   ],
   "source": [
    "listt = [ i  for i in range(1000)]\n",
    "\n",
    "start = 0 \n",
    "x = 0 \n",
    "no = int(input())\n",
    "end = len(listt)-1 \n",
    "count = 0 \n",
    "while(start <=end):\n",
    "    mid = (start + end) // 2 \n",
    "    if(listt[mid]== no):\n",
    "        print(\"found\")\n",
    "        x=1 \n",
    "        break \n",
    "    elif(listt[mid] > no):\n",
    "        end= mid - 1 \n",
    "    else:\n",
    "        start = mid + 1 \n",
    "    count+=1 \n",
    "if(x==0):\n",
    "    print(\"Not Found\")\n",
    "print(count)"
   ]
  },
  {
   "cell_type": "code",
   "execution_count": 13,
   "metadata": {},
   "outputs": [
    {
     "name": "stdin",
     "output_type": "stream",
     "text": [
      "Enter the no  1\n"
     ]
    },
    {
     "name": "stdout",
     "output_type": "stream",
     "text": [
      "[1]\n"
     ]
    }
   ],
   "source": [
    "listt =[]\n",
    "for i in input(\"Enter the no \").split():\n",
    "    listt.append(int(i))\n",
    "print(listt)"
   ]
  },
  {
   "cell_type": "code",
   "execution_count": null,
   "metadata": {},
   "outputs": [],
   "source": []
  },
  {
   "cell_type": "code",
   "execution_count": 10,
   "metadata": {},
   "outputs": [
    {
     "name": "stdin",
     "output_type": "stream",
     "text": [
      "Enter the no  1 2  4 55 6 6 644 \n"
     ]
    },
    {
     "name": "stdout",
     "output_type": "stream",
     "text": [
      "[1, 2, 4, 55, 6, 6, 644]\n"
     ]
    }
   ],
   "source": [
    "listt= []\n",
    "for i in input(\"Enter the no \").split():\n",
    "    listt.append(int(i))\n",
    "print(listt)"
   ]
  },
  {
   "cell_type": "markdown",
   "metadata": {},
   "source": [
    "- sorting"
   ]
  },
  {
   "cell_type": "code",
   "execution_count": 4,
   "metadata": {},
   "outputs": [
    {
     "name": "stdout",
     "output_type": "stream",
     "text": [
      "[11, 17, 22, 34, 40, 45, 67]\n"
     ]
    }
   ],
   "source": [
    "listt =  [67, 45, 40, 34, 22, 17, 11]\n",
    "i = 0 \n",
    "n = len(listt)\n",
    "while(i<n):\n",
    "    j=0\n",
    "    while(j <n- i -1):\n",
    "        if(listt[j]>listt[j+1]):\n",
    "            listt[j], listt[j+1] = listt[j+1], listt[j]\n",
    "        j+=1\n",
    "    i+=1\n",
    "print(listt)"
   ]
  },
  {
   "cell_type": "markdown",
   "metadata": {},
   "source": [
    "#### function :-function is a block of of organised ,reuseable, code ,that is used to perform a single related action function provide better modularity for your application and heigh degree of code reusable.\n"
   ]
  },
  {
   "cell_type": "code",
   "execution_count": 13,
   "metadata": {},
   "outputs": [],
   "source": [
    "### Sorting and use swap function \n",
    "def swap(i , j , l ):\n",
    "    l[i] , l[j] = l[j] , l[i]"
   ]
  },
  {
   "cell_type": "code",
   "execution_count": 14,
   "metadata": {},
   "outputs": [
    {
     "name": "stdout",
     "output_type": "stream",
     "text": [
      "[11, 17, 22, 34, 40, 45, 67]\n"
     ]
    }
   ],
   "source": [
    "listt =  [67, 45, 40, 34, 22, 17, 11]\n",
    "i = 0 \n",
    "n = len(listt)\n",
    "while(i<n):\n",
    "    j=0\n",
    "    while(j <n- i -1):\n",
    "        if(listt[j]>listt[j+1]):\n",
    "            swap(j ,j+1 , listt)\n",
    "        j+=1\n",
    "    i+=1\n",
    "print(listt)"
   ]
  },
  {
   "cell_type": "code",
   "execution_count": 23,
   "metadata": {},
   "outputs": [],
   "source": [
    "### WAP to swap 1st and last value of the list\n",
    "listt =  [67, 45, 40, 34, 22, 17, 11]\n",
    "def swap(i , j, l ):\n",
    "    l[i] , l[j] = l[j] , l[i]\n",
    "swap(0 , len(listt)-1  , listt)    "
   ]
  },
  {
   "cell_type": "code",
   "execution_count": 53,
   "metadata": {},
   "outputs": [],
   "source": [
    "import random\n",
    "a = random.random()\n",
    "b = random.randrange(20, 50)"
   ]
  },
  {
   "cell_type": "code",
   "execution_count": 54,
   "metadata": {},
   "outputs": [
    {
     "name": "stdout",
     "output_type": "stream",
     "text": [
      "49\n"
     ]
    }
   ],
   "source": [
    "print(b)"
   ]
  },
  {
   "cell_type": "code",
   "execution_count": 34,
   "metadata": {},
   "outputs": [
    {
     "data": {
      "text/plain": [
       "0.462245319162521"
      ]
     },
     "execution_count": 34,
     "metadata": {},
     "output_type": "execute_result"
    }
   ],
   "source": []
  },
  {
   "cell_type": "code",
   "execution_count": 41,
   "metadata": {},
   "outputs": [
    {
     "name": "stdin",
     "output_type": "stream",
     "text": [
      " adna\n",
      " a\n"
     ]
    },
    {
     "name": "stdout",
     "output_type": "stream",
     "text": [
      "before function \n",
      "in function \n",
      "2\n",
      "after function \n"
     ]
    }
   ],
   "source": [
    "a = input()\n",
    "b=input()\n",
    "print(\"before function \")\n",
    "print(count(a , b ))\n",
    "print(\"after function \")\n",
    "\n",
    "def count(a ,b):\n",
    "    c = 0   \n",
    "    for i in a:\n",
    "        if i==b:\n",
    "            c+=1\n",
    "    print(\"in function \")\n",
    "    return c\n"
   ]
  },
  {
   "cell_type": "markdown",
   "metadata": {},
   "source": [
    "- WAP to check if a str is palindrome or     ( not using function  ) "
   ]
  },
  {
   "cell_type": "code",
   "execution_count": 57,
   "metadata": {},
   "outputs": [
    {
     "name": "stdin",
     "output_type": "stream",
     "text": [
      " 1213\n"
     ]
    },
    {
     "name": "stdout",
     "output_type": "stream",
     "text": [
      "Not Palindrome\n"
     ]
    }
   ],
   "source": [
    "string = input()\n",
    "def palidrome(string ):\n",
    "    i = 0 \n",
    "    j = len(string) -1 \n",
    "    \n",
    "    while(i <=j):\n",
    "        if(string[i]!=string[j]):\n",
    "            return False\n",
    "        i+=1\n",
    "        j-=1\n",
    "    return True\n",
    "if(palidrome(string)):\n",
    "    print(\"Palindrome\")\n",
    "else:\n",
    "    print(\"Not Palindrome\")\n",
    "    "
   ]
  },
  {
   "cell_type": "code",
   "execution_count": 1,
   "metadata": {},
   "outputs": [
    {
     "ename": "SyntaxError",
     "evalue": "invalid syntax (<ipython-input-1-e1098d7f698e>, line 1)",
     "output_type": "error",
     "traceback": [
      "\u001b[0;36m  File \u001b[0;32m\"<ipython-input-1-e1098d7f698e>\"\u001b[0;36m, line \u001b[0;32m1\u001b[0m\n\u001b[0;31m    [1 , 3, , 9 ]\u001b[0m\n\u001b[0m            ^\u001b[0m\n\u001b[0;31mSyntaxError\u001b[0m\u001b[0;31m:\u001b[0m invalid syntax\n"
     ]
    }
   ],
   "source": [
    "[1 , 3, , 9 ]\n",
    "[1 , 4 ,0 , 0 ]"
   ]
  },
  {
   "cell_type": "code",
   "execution_count": 6,
   "metadata": {},
   "outputs": [
    {
     "name": "stdin",
     "output_type": "stream",
     "text": [
      "enter num of elements in list 4\n",
      "enter strings samad\n",
      "enter strings habib\n",
      "enter strings tuesday\n",
      "enter strings monday\n"
     ]
    },
    {
     "name": "stdout",
     "output_type": "stream",
     "text": [
      "your largest length is : 7\n"
     ]
    }
   ],
   "source": [
    "li=[]\n",
    "num=int(input(\"enter num of elements in list\"))\n",
    "i=0\n",
    "while(i<num):\n",
    "    ele=str(input(\"enter strings\"))\n",
    "    li.append(ele)\n",
    "    i+=1\n",
    "j=0\n",
    "n=len(li)\n",
    "max = 0 \n",
    "while(j<n):\n",
    "    if(max < len(li[j])):\n",
    "        max = len(li[j])\n",
    "    j+=1\n",
    "print(\"your largest length is :\",max)"
   ]
  },
  {
   "cell_type": "code",
   "execution_count": null,
   "metadata": {},
   "outputs": [],
   "source": [
    "lst1 = [int(item) for item in input(\"Enter the list items : \").split()] "
   ]
  },
  {
   "cell_type": "code",
   "execution_count": 15,
   "metadata": {},
   "outputs": [
    {
     "name": "stdin",
     "output_type": "stream",
     "text": [
      "Enter the list  10 11 12 13 14 15\n"
     ]
    }
   ],
   "source": [
    " "
   ]
  },
  {
   "cell_type": "code",
   "execution_count": 20,
   "metadata": {},
   "outputs": [
    {
     "name": "stdin",
     "output_type": "stream",
     "text": [
      "Enter the list  10 111 12 13 14\n"
     ]
    }
   ],
   "source": []
  },
  {
   "cell_type": "code",
   "execution_count": 21,
   "metadata": {},
   "outputs": [
    {
     "name": "stdout",
     "output_type": "stream",
     "text": [
      "[10, 111, 12, 13, 14]\n"
     ]
    }
   ],
   "source": [
    "print(lt1)"
   ]
  },
  {
   "cell_type": "code",
   "execution_count": 29,
   "metadata": {},
   "outputs": [
    {
     "name": "stdout",
     "output_type": "stream",
     "text": [
      "my name is saman \n"
     ]
    }
   ],
   "source": [
    "l1=[\"m\" ,  \"na\"  , \"i\"  , \"sa\"]\n",
    "l2=[\"y\" ,  \"me\" , \"s\" , \"man\"]\n",
    "s = \"\"\n",
    "for i in range(len(l1)):\n",
    "    s+=l1[i] + l2[i] + \" \"\n",
    "print(s)\n",
    "    "
   ]
  },
  {
   "cell_type": "code",
   "execution_count": 40,
   "metadata": {},
   "outputs": [
    {
     "name": "stdin",
     "output_type": "stream",
     "text": [
      "number 1004\n"
     ]
    },
    {
     "name": "stdout",
     "output_type": "stream",
     "text": [
      " not  Found\n",
      "10\n"
     ]
    }
   ],
   "source": [
    "listt = [ i  for i in range(1000)]\n",
    "num = int(input(\"number\"))\n",
    "start = 0 \n",
    "end = len(listt) - 1 \n",
    "flag = True \n",
    "count = 0 \n",
    "while(start<=end):\n",
    "    mid = (start + end ) // 2\n",
    "    count+=1\n",
    "    if listt[mid]==num:\n",
    "        flag = False \n",
    "        break \n",
    "    elif listt[mid] > num:\n",
    "        end = mid - 1\n",
    "    else:\n",
    "        start = mid + 1 \n",
    "if(flag):\n",
    "    print(\" not  Found\")\n",
    "else:\n",
    "    print(\" Found \") \n",
    "print(count)"
   ]
  },
  {
   "cell_type": "code",
   "execution_count": 41,
   "metadata": {},
   "outputs": [
    {
     "name": "stdout",
     "output_type": "stream",
     "text": [
      "mman  nas  ime  say  \n"
     ]
    }
   ],
   "source": [
    "l1=[\"m\" ,  \"na\"  , \"i\"  , \"sa\"]\n",
    "l2=[\"y\" ,  \"me\" , \"s\" , \"man\"]\n",
    "s = \"\"\n",
    "for i in range(len(l1)):\n",
    "    s+=l1[i] + l2[len(l1)-1-i] + \"  \"\n",
    "print(s)"
   ]
  },
  {
   "cell_type": "code",
   "execution_count": null,
   "metadata": {},
   "outputs": [],
   "source": []
  }
 ],
 "metadata": {
  "kernelspec": {
   "display_name": "Python 3",
   "language": "python",
   "name": "python3"
  },
  "language_info": {
   "codemirror_mode": {
    "name": "ipython",
    "version": 3
   },
   "file_extension": ".py",
   "mimetype": "text/x-python",
   "name": "python",
   "nbconvert_exporter": "python",
   "pygments_lexer": "ipython3",
   "version": "3.7.4"
  }
 },
 "nbformat": 4,
 "nbformat_minor": 4
}
