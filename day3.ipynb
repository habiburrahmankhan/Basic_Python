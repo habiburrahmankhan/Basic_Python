{
 "cells": [
  {
   "cell_type": "markdown",
   "metadata": {},
   "source": [
    "### Loop :-\n",
    "- While loop\n",
    "- For loop\n",
    "- Do while\n",
    "\n",
    "\n",
    "#### While loop:-\n",
    "- Repeat a statement or group of statement while a given condition is true. \n",
    "- It test the condition before executing the loop body.\n",
    "\n",
    "#### For loop:-\n",
    "- It excite a sequence of statement multiple time and appropriate the code that manages the loop variable.\n",
    "\n",
    "- While expression:\n",
    " - Statement \n",
    "  - Body / suite \n"
   ]
  },
  {
   "cell_type": "markdown",
   "metadata": {},
   "source": [
    "- Write a program to print upto n "
   ]
  },
  {
   "cell_type": "code",
   "execution_count": 12,
   "metadata": {},
   "outputs": [
    {
     "name": "stdin",
     "output_type": "stream",
     "text": [
      "enter n  4\n"
     ]
    },
    {
     "name": "stdout",
     "output_type": "stream",
     "text": [
      "1\n",
      "2\n",
      "3\n",
      "4\n"
     ]
    }
   ],
   "source": [
    "a=int(input(\"enter n \" ))\n",
    "\n",
    "i = 1 ## inilisation \n",
    "while(i<=a):\n",
    "    print(i )\n",
    "    #print(i , end=\"     \")\n",
    "    i+=1\n",
    "\n",
    "    "
   ]
  },
  {
   "cell_type": "code",
   "execution_count": 13,
   "metadata": {},
   "outputs": [
    {
     "name": "stdout",
     "output_type": "stream",
     "text": [
      "\n"
     ]
    }
   ],
   "source": [
    "print()"
   ]
  },
  {
   "cell_type": "markdown",
   "metadata": {},
   "source": [
    "- Write a program to print even number upto n "
   ]
  },
  {
   "cell_type": "code",
   "execution_count": 6,
   "metadata": {},
   "outputs": [
    {
     "name": "stdin",
     "output_type": "stream",
     "text": [
      "enter n  2\n"
     ]
    },
    {
     "name": "stdout",
     "output_type": "stream",
     "text": [
      "2\n"
     ]
    }
   ],
   "source": [
    "n=int(input(\"enter n \" ))\n",
    "i=1\n",
    "while(i<=n):\n",
    "    if i%2==0:\n",
    "        print(i)\n",
    "    i+=1\n",
    "        "
   ]
  },
  {
   "cell_type": "markdown",
   "metadata": {},
   "source": [
    "- Write a program to print odd number upto n "
   ]
  },
  {
   "cell_type": "code",
   "execution_count": 5,
   "metadata": {},
   "outputs": [
    {
     "name": "stdin",
     "output_type": "stream",
     "text": [
      "Enter the number :-   12\n"
     ]
    },
    {
     "name": "stdout",
     "output_type": "stream",
     "text": [
      "1\n",
      "3\n",
      "5\n",
      "7\n",
      "9\n",
      "11\n",
      "good bye\n"
     ]
    }
   ],
   "source": [
    "n = int(input(\"Enter the number :-  \"))\n",
    "flag=1\n",
    "while flag<=n:\n",
    "    if flag%2!=0:\n",
    "        print(flag)\n",
    "    flag+=1\n",
    "print( \"good bye\")\n"
   ]
  },
  {
   "cell_type": "code",
   "execution_count": 16,
   "metadata": {},
   "outputs": [
    {
     "name": "stdin",
     "output_type": "stream",
     "text": [
      "Enter the number  10\n"
     ]
    },
    {
     "name": "stdout",
     "output_type": "stream",
     "text": [
      "0     1      1    2    4    8    16    32    64    128    256    "
     ]
    }
   ],
   "source": [
    "a = 0 \n",
    "b = 1 \n",
    "n = int(input(\"Enter the number \"))\n",
    "i=2\n",
    "print(a ,  \"   \" , b , end=\"      \"  )\n",
    "while(i<=n):\n",
    "    c=a+b\n",
    "    print(c ,end=\"    \" )\n",
    "    a =b\n",
    "    \n",
    "    i+=1\n",
    "    "
   ]
  },
  {
   "cell_type": "code",
   "execution_count": null,
   "metadata": {},
   "outputs": [],
   "source": [
    "p"
   ]
  },
  {
   "cell_type": "markdown",
   "metadata": {},
   "source": [
    "-  fibonancii series :- "
   ]
  },
  {
   "cell_type": "code",
   "execution_count": 11,
   "metadata": {},
   "outputs": [
    {
     "name": "stdin",
     "output_type": "stream",
     "text": [
      "enter the  no:-  3\n"
     ]
    },
    {
     "name": "stdout",
     "output_type": "stream",
     "text": [
      "0\n",
      "1\n",
      "1\n"
     ]
    }
   ],
   "source": [
    "a=0\n",
    "b=1\n",
    "n=int(input(\"enter the  no:- \"))\n",
    "print(a)\n",
    "print(b)\n",
    "i=2\n",
    "while  i!=n:\n",
    "    c=a+b\n",
    "    print(c)\n",
    "    a=b\n",
    "    b=c\n",
    "    i+=1"
   ]
  },
  {
   "cell_type": "markdown",
   "metadata": {},
   "source": [
    "- Swap two  number"
   ]
  },
  {
   "cell_type": "code",
   "execution_count": 1,
   "metadata": {},
   "outputs": [
    {
     "name": "stdin",
     "output_type": "stream",
     "text": [
      "Enter 1st no  12\n",
      "Enter 2nd number  13\n"
     ]
    },
    {
     "name": "stdout",
     "output_type": "stream",
     "text": [
      "13 12\n"
     ]
    }
   ],
   "source": [
    "a = int(input(\"Enter 1st no \"))\n",
    "b = int(input(\"Enter 2nd number \"))\n",
    "temp = a \n",
    "a = b \n",
    "b = temp\n",
    "print(a , b )"
   ]
  },
  {
   "cell_type": "markdown",
   "metadata": {},
   "source": [
    "- Swap two  number  using advanced   "
   ]
  },
  {
   "cell_type": "code",
   "execution_count": 7,
   "metadata": {},
   "outputs": [
    {
     "name": "stdout",
     "output_type": "stream",
     "text": [
      "10 11 12\n"
     ]
    }
   ],
   "source": [
    "a , b, c = 10 , 11 ,12 \n",
    "print(a , b, c)"
   ]
  },
  {
   "cell_type": "code",
   "execution_count": 8,
   "metadata": {},
   "outputs": [
    {
     "name": "stdin",
     "output_type": "stream",
     "text": [
      "Enter 1st no  11\n",
      "Enter 2nd number  12\n"
     ]
    },
    {
     "name": "stdout",
     "output_type": "stream",
     "text": [
      "12 11\n"
     ]
    }
   ],
   "source": [
    "a = int(input(\"Enter 1st no \"))\n",
    "b = int(input(\"Enter 2nd number \"))\n",
    "a , b = b , a \n",
    "print(a , b )"
   ]
  },
  {
   "cell_type": "code",
   "execution_count": 19,
   "metadata": {},
   "outputs": [
    {
     "name": "stdout",
     "output_type": "stream",
     "text": [
      "0 0 0 0 0 \n",
      "1 1 1 1 1 \n",
      "2 2 2 2 2 \n",
      "3 3 3 3 3 \n",
      "4 4 4 4 4 \n",
      "5 5 5 5 5 \n",
      "6 6 6 6 6 \n",
      "7 7 7 7 7 \n",
      "8 8 8 8 8 \n",
      "9 9 9 9 9 \n",
      "out of the loop \n"
     ]
    }
   ],
   "source": [
    "### 2 - loop \n",
    "i = 0\n",
    "m = 10 \n",
    "n = 5\n",
    "while(i<m):\n",
    "    j=0\n",
    "    while(j<n):\n",
    "        print(i , end= \" \")\n",
    "        j+=1\n",
    "    print()\n",
    "    i+=1\n",
    "print(\"out of the loop \")"
   ]
  },
  {
   "cell_type": "markdown",
   "metadata": {},
   "source": [
    "- question no 2 of pattern "
   ]
  },
  {
   "cell_type": "code",
   "execution_count": 22,
   "metadata": {},
   "outputs": [
    {
     "name": "stdout",
     "output_type": "stream",
     "text": [
      "* * * * \n",
      "* * * * \n",
      "* * * * \n",
      "* * * * \n",
      "out of the loop \n"
     ]
    }
   ],
   "source": [
    " \n",
    "i = 0\n",
    "n = 4  \n",
    "while(i<n):\n",
    "    j=0\n",
    "    while(j<n):\n",
    "        print(\"*\" , end= \" \")\n",
    "        j+=1\n",
    "    print()\n",
    "    i+=1\n",
    "print(\"out of the loop \")"
   ]
  },
  {
   "cell_type": "markdown",
   "metadata": {},
   "source": [
    "-  fibonancii series :- "
   ]
  },
  {
   "cell_type": "markdown",
   "metadata": {},
   "source": [
    "\n",
    "a=0\n",
    "b=1\n",
    "n=int(input(\"enter the  no:- \"))\n",
    "flag=0\n",
    "while  flag<n:\n",
    "    print(a,end=\" \")\n",
    "    a,b=b,a+b\n",
    "    flag+=1\n"
   ]
  },
  {
   "cell_type": "markdown",
   "metadata": {},
   "source": [
    "- write a program  to append the square in the list -->    [1 , 4 , 9 , 16  , 25 ,..n ]"
   ]
  },
  {
   "cell_type": "code",
   "execution_count": 12,
   "metadata": {},
   "outputs": [
    {
     "name": "stdin",
     "output_type": "stream",
     "text": [
      "enter the  no:-  5\n"
     ]
    },
    {
     "name": "stdout",
     "output_type": "stream",
     "text": [
      "[1, 4, 9, 16, 25] <class 'list'>\n"
     ]
    }
   ],
   "source": [
    "n =int(input(\"enter the  no:- \"))\n",
    "square_list = []\n",
    "i = 1 \n",
    "while( i <=n):\n",
    "    #print(i*i   , end = \"  \")\n",
    "    square_list.append(i*i)\n",
    "    i+=1\n",
    "print(square_list , type(square_list))"
   ]
  },
  {
   "cell_type": "code",
   "execution_count": 13,
   "metadata": {},
   "outputs": [
    {
     "name": "stdin",
     "output_type": "stream",
     "text": [
      "enter the  no:-  5\n"
     ]
    },
    {
     "name": "stdout",
     "output_type": "stream",
     "text": [
      "{1: 1, 2: 4, 3: 9, 4: 16, 5: 25} <class 'dict'>\n"
     ]
    }
   ],
   "source": [
    "n =int(input(\"enter the  no:- \"))\n",
    "square_dict = {}\n",
    "i = 1 \n",
    "while( i <=n):\n",
    "    square_dict[i]  = i*i \n",
    "    i+=1\n",
    "print(square_dict , type(square_dict))"
   ]
  },
  {
   "cell_type": "raw",
   "metadata": {},
   "source": [
    "n = 4 \n",
    "*                    * * * *   ****        ----*    ----*          1            0             \n",
    "* *                  * * * *   ***         ---**    ---* *         2 2          1 1\n",
    "* * *                * * * *   **          --***    --* * *        3 3 3        0 0 0 \n",
    "* * * *              * * * *   *           -****    -* * * *       4 4 4 4      1 1 1 1 \n",
    "  (1)                (2)    (3)          (4)        (5)            (6)          (7)\n",
    "*                           \n",
    "* *                  \n",
    "* * *  \n",
    "* * * *\n",
    "* * *\n",
    "* *\n",
    "*\n",
    "(8)\n",
    "     *                           \n",
    "   * * *                  \n",
    "  * * * * *  \n",
    "* * * * * * *\n",
    "  * * * * *\n",
    "    * * *\n",
    "      *\n",
    "     (9)"
   ]
  },
  {
   "cell_type": "markdown",
   "metadata": {},
   "source": [
    "#### for loop :-\n",
    "- [start: stop : step]\n",
    "- range(start,stop,step).\n"
   ]
  },
  {
   "cell_type": "code",
   "execution_count": 40,
   "metadata": {},
   "outputs": [
    {
     "name": "stdout",
     "output_type": "stream",
     "text": [
      "1\n",
      "2\n",
      "3\n",
      "4\n",
      "5\n",
      "6\n",
      "7\n",
      "8\n",
      "9\n"
     ]
    }
   ],
   "source": [
    "for i in range(1, 10):\n",
    "    print(i)"
   ]
  },
  {
   "cell_type": "code",
   "execution_count": null,
   "metadata": {},
   "outputs": [],
   "source": []
  },
  {
   "cell_type": "code",
   "execution_count": null,
   "metadata": {},
   "outputs": [],
   "source": []
  },
  {
   "cell_type": "code",
   "execution_count": null,
   "metadata": {},
   "outputs": [],
   "source": []
  },
  {
   "cell_type": "code",
   "execution_count": null,
   "metadata": {},
   "outputs": [],
   "source": []
  },
  {
   "cell_type": "code",
   "execution_count": 3,
   "metadata": {},
   "outputs": [
    {
     "name": "stdout",
     "output_type": "stream",
     "text": [
      "range(0, 10)\n"
     ]
    }
   ],
   "source": [
    "a=10\n",
    "print(range(a))"
   ]
  },
  {
   "cell_type": "code",
   "execution_count": 5,
   "metadata": {},
   "outputs": [
    {
     "name": "stdout",
     "output_type": "stream",
     "text": [
      "0\n",
      "1\n",
      "2\n",
      "3\n",
      "4\n",
      "5\n",
      "6\n",
      "7\n",
      "8\n",
      "9\n"
     ]
    }
   ],
   "source": [
    "for i in range(a):\n",
    "    print(i)"
   ]
  },
  {
   "cell_type": "code",
   "execution_count": 67,
   "metadata": {},
   "outputs": [
    {
     "name": "stdout",
     "output_type": "stream",
     "text": [
      "0\n",
      "2\n",
      "4\n",
      "6\n",
      "8\n",
      "10\n",
      "12\n",
      "14\n",
      "16\n",
      "18\n"
     ]
    }
   ],
   "source": [
    "### for even number print \n",
    "for i in range(0,20,2):\n",
    "    print(i)"
   ]
  },
  {
   "cell_type": "markdown",
   "metadata": {},
   "source": []
  },
  {
   "cell_type": "code",
   "execution_count": 68,
   "metadata": {},
   "outputs": [
    {
     "name": "stdout",
     "output_type": "stream",
     "text": [
      "1\n",
      "3\n",
      "5\n",
      "7\n",
      "9\n",
      "11\n",
      "13\n",
      "15\n",
      "17\n",
      "19\n"
     ]
    }
   ],
   "source": [
    "### for odd number print \n",
    "for i in range(1,20,2):\n",
    "    print(i)"
   ]
  },
  {
   "cell_type": "code",
   "execution_count": 9,
   "metadata": {},
   "outputs": [
    {
     "name": "stdout",
     "output_type": "stream",
     "text": [
      "p\n",
      "y\n",
      "t\n",
      "h\n",
      "o\n",
      "n\n",
      "p\n",
      "y\n",
      "t\n",
      "h\n",
      "o\n",
      "n\n"
     ]
    }
   ],
   "source": [
    "a=\"python\"\n",
    "for i in a:\n",
    "    print(i)\n",
    "for i in range(len(a)):\n",
    "    print(a[i])"
   ]
  },
  {
   "cell_type": "code",
   "execution_count": 90,
   "metadata": {},
   "outputs": [
    {
     "name": "stdin",
     "output_type": "stream",
     "text": [
      "Enter name  adnan\n"
     ]
    },
    {
     "name": "stdout",
     "output_type": "stream",
     "text": [
      "5\n"
     ]
    }
   ],
   "source": [
    "name = input(\"Enter name \")\n",
    "count=0 \n",
    "for i in name:\n",
    "    count+=1\n",
    "print(count)"
   ]
  },
  {
   "cell_type": "code",
   "execution_count": 91,
   "metadata": {},
   "outputs": [
    {
     "name": "stdout",
     "output_type": "stream",
     "text": [
      "my\n",
      "name\n",
      "is\n",
      "hrkhan\n",
      "20\n",
      "my\n",
      "name\n",
      "is\n",
      "hrkhan\n",
      "20\n"
     ]
    }
   ],
   "source": [
    "a=[\"my\", \"name\" ,\"is\", \"hrkhan\",20]\n",
    "for i in a:\n",
    "    print(i)    \n",
    "for i in range(len(a)):\n",
    "    print(a[i])\n"
   ]
  },
  {
   "cell_type": "markdown",
   "metadata": {},
   "source": [
    "- break\n",
    "- continue\n",
    "- pass "
   ]
  },
  {
   "cell_type": "code",
   "execution_count": 99,
   "metadata": {},
   "outputs": [
    {
     "name": "stdout",
     "output_type": "stream",
     "text": [
      "p\n",
      "y\n",
      "t\n",
      "you can under stand break statement\n"
     ]
    }
   ],
   "source": [
    "a=\"python\"\n",
    "for i in range(len(a)):    \n",
    "    if(a[i]=='h'):\n",
    "        break\n",
    "    print(a[i])  \n",
    "print(\"you can under stand break statement\")"
   ]
  },
  {
   "cell_type": "code",
   "execution_count": 100,
   "metadata": {},
   "outputs": [
    {
     "name": "stdout",
     "output_type": "stream",
     "text": [
      "p\n",
      "y\n",
      "t\n",
      "o\n",
      "n\n",
      "   you can under stand continue statement\n"
     ]
    }
   ],
   "source": [
    "a=\"python\"\n",
    "for i in range(len(a)):    \n",
    "    if a[i]==\"h\":\n",
    "        continue\n",
    "    print(a[i])\n",
    "    \n",
    "print(\"   you can under stand continue statement\")"
   ]
  },
  {
   "cell_type": "code",
   "execution_count": 101,
   "metadata": {},
   "outputs": [
    {
     "name": "stdout",
     "output_type": "stream",
     "text": [
      "p\n",
      "y\n",
      "t\n",
      "h\n",
      "under stand pass statement!!!\n",
      "o\n",
      "n\n",
      "   you can under stand pass  statement\n"
     ]
    }
   ],
   "source": [
    "for i in range(len(a)):\n",
    "    print(a[i])\n",
    "    if a[i]==\"h\":\n",
    "         pass\n",
    "         print(\"under stand pass statement!!!\")\n",
    "print(\"   you can under stand pass  statement\")"
   ]
  },
  {
   "cell_type": "code",
   "execution_count": null,
   "metadata": {},
   "outputs": [],
   "source": []
  },
  {
   "cell_type": "code",
   "execution_count": null,
   "metadata": {},
   "outputs": [],
   "source": []
  },
  {
   "cell_type": "code",
   "execution_count": null,
   "metadata": {},
   "outputs": [],
   "source": []
  },
  {
   "cell_type": "code",
   "execution_count": null,
   "metadata": {},
   "outputs": [],
   "source": []
  },
  {
   "cell_type": "code",
   "execution_count": null,
   "metadata": {},
   "outputs": [],
   "source": []
  },
  {
   "cell_type": "code",
   "execution_count": null,
   "metadata": {},
   "outputs": [],
   "source": []
  }
 ],
 "metadata": {
  "kernelspec": {
   "display_name": "Python 3",
   "language": "python",
   "name": "python3"
  },
  "language_info": {
   "codemirror_mode": {
    "name": "ipython",
    "version": 3
   },
   "file_extension": ".py",
   "mimetype": "text/x-python",
   "name": "python",
   "nbconvert_exporter": "python",
   "pygments_lexer": "ipython3",
   "version": "3.7.4"
  }
 },
 "nbformat": 4,
 "nbformat_minor": 4
}
