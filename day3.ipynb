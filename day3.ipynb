{
 "cells": [
  {
   "cell_type": "markdown",
   "metadata": {},
   "source": [
    "### Loop :-\n",
    "- While loop\n",
    "- For loop\n",
    "- Do while\n",
    "\n",
    "\n",
    "#### While loop:-\n",
    "- Repeat a statement or group of statement while a given condition is true. \n",
    "- It test the condition before executing the loop body.\n",
    "\n",
    "#### For loop:-\n",
    "- It excite a sequence of statement multiple time and appropriate the code that manages the loop variable.\n",
    "\n",
    "- While expression:\n",
    " - Statement \n",
    "  - Body / suite \n"
   ]
  },
  {
   "cell_type": "markdown",
   "metadata": {},
   "source": [
    "- Write a program to print upto n "
   ]
  },
  {
   "cell_type": "code",
   "execution_count": 2,
   "metadata": {},
   "outputs": [
    {
     "name": "stdin",
     "output_type": "stream",
     "text": [
      "enter n  2\n"
     ]
    },
    {
     "name": "stdout",
     "output_type": "stream",
     "text": [
      "1\n",
      "2\n"
     ]
    }
   ],
   "source": [
    "a=int(input(\"enter n \" ))\n",
    "\n",
    "i = 1 ## inilisation \n",
    "while(i<=a):\n",
    "    print(i)\n",
    "    i+=1\n",
    "\n",
    "    "
   ]
  },
  {
   "cell_type": "code",
   "execution_count": null,
   "metadata": {},
   "outputs": [],
   "source": []
  },
  {
   "cell_type": "markdown",
   "metadata": {},
   "source": [
    "- Write a program to print odd number upto n "
   ]
  },
  {
   "cell_type": "code",
   "execution_count": 9,
   "metadata": {},
   "outputs": [
    {
     "name": "stdin",
     "output_type": "stream",
     "text": [
      "Enter the number :-   3\n"
     ]
    },
    {
     "name": "stdout",
     "output_type": "stream",
     "text": [
      "1\n",
      "3\n",
      "good bye\n"
     ]
    }
   ],
   "source": [
    "n = int(input(\"Enter the number :-  \"))\n",
    "flag=1\n",
    "while flag<=n:\n",
    "    if flag%2!=0:\n",
    "        print(flag)\n",
    "    flag+=1\n",
    "print( \"good bye\")\n"
   ]
  },
  {
   "cell_type": "code",
   "execution_count": 13,
   "metadata": {},
   "outputs": [
    {
     "name": "stdout",
     "output_type": "stream",
     "text": [
      "0 1\n",
      "1 2 3 5 8 13 21 34 55 89 "
     ]
    }
   ],
   "source": [
    "a = 0 \n",
    "b = 1 \n",
    "n = 10\n",
    "i = 1 \n",
    "print(a , b )\n",
    "while(i<=n):\n",
    "    c=a+b\n",
    "    print(c , end=\" \")\n",
    "    a=b\n",
    "    b=c\n",
    "    i+=1 "
   ]
  },
  {
   "cell_type": "code",
   "execution_count": null,
   "metadata": {},
   "outputs": [],
   "source": []
  },
  {
   "cell_type": "markdown",
   "metadata": {},
   "source": [
    "-  fibonancii series :- "
   ]
  },
  {
   "cell_type": "code",
   "execution_count": 11,
   "metadata": {},
   "outputs": [
    {
     "name": "stdin",
     "output_type": "stream",
     "text": [
      "enter the  no:-  3\n"
     ]
    },
    {
     "name": "stdout",
     "output_type": "stream",
     "text": [
      "0\n",
      "1\n",
      "1\n"
     ]
    }
   ],
   "source": [
    "a=0\n",
    "b=1\n",
    "n=int(input(\"enter the  no:- \"))\n",
    "print(a)\n",
    "print(b)\n",
    "i=2\n",
    "while  i!=n:\n",
    "    c=a+b\n",
    "    print(c)\n",
    "    a=b\n",
    "    b=c\n",
    "    i+=1"
   ]
  },
  {
   "cell_type": "markdown",
   "metadata": {},
   "source": [
    "- Swap two  number"
   ]
  },
  {
   "cell_type": "code",
   "execution_count": 14,
   "metadata": {},
   "outputs": [
    {
     "name": "stdin",
     "output_type": "stream",
     "text": [
      "Enter 1st no  12 \n",
      "Enter 2nd number  15\n"
     ]
    },
    {
     "name": "stdout",
     "output_type": "stream",
     "text": [
      "15 12\n"
     ]
    }
   ],
   "source": [
    "a = int(input(\"Enter 1st no \"))\n",
    "b = int(input(\"Enter 2nd number \"))\n",
    "temp = a \n",
    "a = b \n",
    "b = temp\n",
    "print(a , b )"
   ]
  },
  {
   "cell_type": "markdown",
   "metadata": {},
   "source": [
    "- Swap two  number  using advanced   "
   ]
  },
  {
   "cell_type": "code",
   "execution_count": 18,
   "metadata": {},
   "outputs": [
    {
     "name": "stdin",
     "output_type": "stream",
     "text": [
      "Enter 1st no  12\n",
      "Enter 2nd number  23\n"
     ]
    },
    {
     "name": "stdout",
     "output_type": "stream",
     "text": [
      "23 12\n"
     ]
    }
   ],
   "source": [
    "a = int(input(\"Enter 1st no \"))\n",
    "b = int(input(\"Enter 2nd number \"))\n",
    "a , b = b , a \n",
    "print(a , b )"
   ]
  },
  {
   "cell_type": "code",
   "execution_count": 23,
   "metadata": {},
   "outputs": [
    {
     "name": "stdout",
     "output_type": "stream",
     "text": [
      "0 0 0 \n",
      "1 1 1 \n",
      "2 2 2 \n",
      "3 3 3 \n"
     ]
    }
   ],
   "source": [
    "### 2 - loop \n",
    "i = 0\n",
    "m = 4 \n",
    "n = 3\n",
    "while(i<m):\n",
    "    j=0\n",
    "    while(j<n):\n",
    "        print(i , end= \" \")\n",
    "        j+=1\n",
    "    print()\n",
    "    i+=1\n"
   ]
  },
  {
   "cell_type": "markdown",
   "metadata": {},
   "source": [
    "-  fibonancii series :- "
   ]
  },
  {
   "cell_type": "markdown",
   "metadata": {},
   "source": [
    "\n",
    "a=0\n",
    "b=1\n",
    "n=int(input(\"enter the  no:- \"))\n",
    "flag=0\n",
    "while  flag<n:\n",
    "    print(a,end=\" \")\n",
    "    a,b=b,a+b\n",
    "    flag+=1\n"
   ]
  },
  {
   "cell_type": "markdown",
   "metadata": {},
   "source": [
    "- write a program  to append the square in the list"
   ]
  },
  {
   "cell_type": "code",
   "execution_count": 20,
   "metadata": {},
   "outputs": [
    {
     "name": "stdin",
     "output_type": "stream",
     "text": [
      "enter the  no:-  10\n"
     ]
    },
    {
     "name": "stdout",
     "output_type": "stream",
     "text": [
      "[1, 4, 9, 16, 25, 36, 49, 64, 81, 100]\n"
     ]
    }
   ],
   "source": [
    "a=0\n",
    "n=int(input(\"enter the  no:- \"))\n",
    "c=[]\n",
    "flag=1\n",
    "while  flag<11:    \n",
    "    c.append(flag*flag)\n",
    "    flag+=1  \n",
    "print(c)"
   ]
  },
  {
   "cell_type": "raw",
   "metadata": {},
   "source": [
    "n = 4 \n",
    "*                    ****   ****        ----*    ----*          1            0             \n",
    "* *                  ****   ***         ---**    ---* *         2 2          1 1\n",
    "* * *                ****   **          --***    --* * *        3 3 3        0 0 0 \n",
    "* * * *              ****   *           -****    -* * * *       4 4 4 4      1 1 1 1 \n",
    "  (1)                (2)    (3)          (4)        (5)            (6)          (7)"
   ]
  },
  {
   "cell_type": "markdown",
   "metadata": {},
   "source": [
    "#### for loop :-\n",
    "- [start: stop : step]\n",
    "- range(start,stop,step).\n"
   ]
  },
  {
   "cell_type": "code",
   "execution_count": 3,
   "metadata": {},
   "outputs": [
    {
     "name": "stdout",
     "output_type": "stream",
     "text": [
      "range(0, 10)\n"
     ]
    }
   ],
   "source": [
    "a=10\n",
    "print(range(a))"
   ]
  },
  {
   "cell_type": "code",
   "execution_count": 5,
   "metadata": {},
   "outputs": [
    {
     "name": "stdout",
     "output_type": "stream",
     "text": [
      "0\n",
      "1\n",
      "2\n",
      "3\n",
      "4\n",
      "5\n",
      "6\n",
      "7\n",
      "8\n",
      "9\n"
     ]
    }
   ],
   "source": [
    "for i in range(a):\n",
    "    print(i)"
   ]
  },
  {
   "cell_type": "code",
   "execution_count": 6,
   "metadata": {},
   "outputs": [
    {
     "name": "stdout",
     "output_type": "stream",
     "text": [
      "0\n",
      "2\n",
      "4\n",
      "6\n",
      "8\n",
      "10\n",
      "12\n",
      "14\n",
      "16\n",
      "18\n"
     ]
    }
   ],
   "source": [
    "### for even number print \n",
    "for i in range(0,20,2):\n",
    "    print(i)"
   ]
  },
  {
   "cell_type": "markdown",
   "metadata": {},
   "source": []
  },
  {
   "cell_type": "code",
   "execution_count": 7,
   "metadata": {},
   "outputs": [
    {
     "name": "stdout",
     "output_type": "stream",
     "text": [
      "1\n",
      "3\n",
      "5\n",
      "7\n",
      "9\n",
      "11\n",
      "13\n",
      "15\n",
      "17\n",
      "19\n"
     ]
    }
   ],
   "source": [
    "### for odd number print \n",
    "for i in range(1,20,2):\n",
    "    print(i)"
   ]
  },
  {
   "cell_type": "code",
   "execution_count": 9,
   "metadata": {},
   "outputs": [
    {
     "name": "stdout",
     "output_type": "stream",
     "text": [
      "p\n",
      "y\n",
      "t\n",
      "h\n",
      "o\n",
      "n\n",
      "p\n",
      "y\n",
      "t\n",
      "h\n",
      "o\n",
      "n\n"
     ]
    }
   ],
   "source": [
    "a=\"python\"\n",
    "for i in a:\n",
    "    print(i)\n",
    "for i in range(len(a)):\n",
    "    print(a[i])"
   ]
  },
  {
   "cell_type": "code",
   "execution_count": 10,
   "metadata": {},
   "outputs": [
    {
     "name": "stdin",
     "output_type": "stream",
     "text": [
      "Enter name  fgregrg\n"
     ]
    },
    {
     "name": "stdout",
     "output_type": "stream",
     "text": [
      "7\n"
     ]
    }
   ],
   "source": [
    "name = input(\"Enter name \")\n",
    "count=0 \n",
    "for i in name:\n",
    "    count+=1\n",
    "print(count)"
   ]
  },
  {
   "cell_type": "markdown",
   "metadata": {},
   "source": [
    "- max min concept "
   ]
  },
  {
   "cell_type": "code",
   "execution_count": 11,
   "metadata": {},
   "outputs": [
    {
     "name": "stdout",
     "output_type": "stream",
     "text": [
      "my\n",
      "name\n",
      "is\n",
      "hrkhan\n",
      "34\n",
      "my\n",
      "name\n",
      "is\n",
      "hrkhan\n",
      "34\n"
     ]
    }
   ],
   "source": [
    "a=[\"my\", \"name\" ,\"is\", \"hrkhan\",34]\n",
    "for i in a:\n",
    "    print(i)\n",
    "for i in range(len(a)):\n",
    "    print(a[i])\n"
   ]
  },
  {
   "cell_type": "markdown",
   "metadata": {},
   "source": [
    "- break\n",
    "- continue\n",
    "- pass "
   ]
  },
  {
   "cell_type": "code",
   "execution_count": 14,
   "metadata": {},
   "outputs": [
    {
     "name": "stdout",
     "output_type": "stream",
     "text": [
      "p\n",
      "y\n",
      "t\n",
      "you can under stand break statement\n"
     ]
    }
   ],
   "source": [
    "a=\"python\"\n",
    "for i in range(len(a)):    \n",
    "    if a[i]==\"h\":\n",
    "     break\n",
    "    print(a[i])\n",
    "   \n",
    "print(\"you can under stand break statement\")"
   ]
  },
  {
   "cell_type": "code",
   "execution_count": 16,
   "metadata": {},
   "outputs": [
    {
     "name": "stdout",
     "output_type": "stream",
     "text": [
      "p\n",
      "y\n",
      "t\n",
      "o\n",
      "n\n",
      "   you can under stand continue statement\n"
     ]
    }
   ],
   "source": [
    "a=\"python\"\n",
    "for i in range(len(a)):    \n",
    "    if a[i]==\"h\":\n",
    "        continue\n",
    "    print(a[i])\n",
    "    \n",
    "print(\"   you can under stand continue statement\")"
   ]
  },
  {
   "cell_type": "code",
   "execution_count": 17,
   "metadata": {},
   "outputs": [
    {
     "name": "stdout",
     "output_type": "stream",
     "text": [
      "p\n",
      "y\n",
      "t\n",
      "h\n",
      "under stand pass statement!!!\n",
      "o\n",
      "n\n",
      "   you can under stand pass  statement\n"
     ]
    }
   ],
   "source": [
    "for i in range(len(a)):\n",
    "    print(a[i])\n",
    "    if a[i]==\"h\":\n",
    "         pass\n",
    "         print(\"under stand pass statement!!!\")\n",
    "          \n",
    "    \n",
    "print(\"   you can under stand pass  statement\")"
   ]
  },
  {
   "cell_type": "code",
   "execution_count": null,
   "metadata": {},
   "outputs": [],
   "source": []
  },
  {
   "cell_type": "code",
   "execution_count": null,
   "metadata": {},
   "outputs": [],
   "source": [
    "0 1 1 2 3 5 8 13 \n",
    "            a b c "
   ]
  }
 ],
 "metadata": {
  "kernelspec": {
   "display_name": "Python 3",
   "language": "python",
   "name": "python3"
  },
  "language_info": {
   "codemirror_mode": {
    "name": "ipython",
    "version": 3
   },
   "file_extension": ".py",
   "mimetype": "text/x-python",
   "name": "python",
   "nbconvert_exporter": "python",
   "pygments_lexer": "ipython3",
   "version": "3.7.4"
  }
 },
 "nbformat": 4,
 "nbformat_minor": 4
}
