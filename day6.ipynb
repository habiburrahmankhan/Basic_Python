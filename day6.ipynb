{
 "cells": [
  {
   "cell_type": "markdown",
   "metadata": {},
   "source": [
    "#### matrix in python "
   ]
  },
  {
   "cell_type": "code",
   "execution_count": 5,
   "metadata": {},
   "outputs": [
    {
     "name": "stdin",
     "output_type": "stream",
     "text": [
      "enter the  no:- 2\n",
      "enter the  no:- 2\n"
     ]
    },
    {
     "name": "stdout",
     "output_type": "stream",
     "text": [
      "sum=  4\n"
     ]
    }
   ],
   "source": [
    "def sum(sum):\n",
    "    a=int(input(\"enter the  no:-\" ))\n",
    "    b=int(input(\"enter the  no:-\" ))\n",
    "    \"sum of two no\"\n",
    "    sum=a+b\n",
    "    print(\"sum= \" , sum)\n",
    "    return\n",
    "sum(sum)"
   ]
  },
  {
   "cell_type": "code",
   "execution_count": 6,
   "metadata": {},
   "outputs": [
    {
     "name": "stdin",
     "output_type": "stream",
     "text": [
      "enter the  no:- 3\n"
     ]
    },
    {
     "name": "stdout",
     "output_type": "stream",
     "text": [
      "0\n",
      "1\n",
      "1\n"
     ]
    }
   ],
   "source": [
    "def fibo(n):\n",
    "    a,b=0,1\n",
    "    n=int(input(\"enter the  no:-\" ))\n",
    "    for i in range(n):\n",
    "        print(a)\n",
    "        a,b = b,a+b\n",
    "fibo(10)"
   ]
  },
  {
   "cell_type": "code",
   "execution_count": 4,
   "metadata": {},
   "outputs": [
    {
     "name": "stdin",
     "output_type": "stream",
     "text": [
      "enter the  no:-  2\n"
     ]
    },
    {
     "name": "stdout",
     "output_type": "stream",
     "text": [
      "{1: 1, 2: 4}\n"
     ]
    }
   ],
   "source": [
    "def dic1(n):\n",
    "    m=int(input(\"enter the  no:- \"))\n",
    "    b={}\n",
    "    flag=1\n",
    "    while  flag<=m:\n",
    "        \n",
    "        b[flag]=flag*flag\n",
    "        flag+=1\n",
    "    print(b)\n",
    "dic1(10)"
   ]
  },
  {
   "cell_type": "code",
   "execution_count": 1,
   "metadata": {},
   "outputs": [],
   "source": [
    "import random\n",
    "def randomlist(): \n",
    "    l = []\n",
    "    for i in range(4):\n",
    "        il = []\n",
    "        for j in range(4):\n",
    "            il.append(random.randrange(1, 100))\n",
    "        l.append(il)\n",
    "    return l "
   ]
  },
  {
   "cell_type": "code",
   "execution_count": 8,
   "metadata": {},
   "outputs": [],
   "source": [
    "def printlist(a):\n",
    "    for i in range(len(a)):\n",
    "        for j in range(len(a[i])):\n",
    "            print(a[i][j] , end=\"  \")\n",
    "        print()"
   ]
  },
  {
   "cell_type": "code",
   "execution_count": 9,
   "metadata": {},
   "outputs": [],
   "source": [
    "def sumlist(a , b ):\n",
    "    suml = []\n",
    "    for i in range(4):\n",
    "        il = []\n",
    "        for j in range(4):\n",
    "            il.append(a[i][j] + b[i][j] )  \n",
    "        suml.append(il)\n",
    "    return suml "
   ]
  },
  {
   "cell_type": "code",
   "execution_count": 10,
   "metadata": {},
   "outputs": [],
   "source": [
    "l1 = randomlist()\n"
   ]
  },
  {
   "cell_type": "code",
   "execution_count": 11,
   "metadata": {},
   "outputs": [],
   "source": [
    "l2 = randomlist()\n"
   ]
  },
  {
   "cell_type": "code",
   "execution_count": 12,
   "metadata": {},
   "outputs": [],
   "source": [
    "l = sumlist(l1 , l2)\n",
    "\n"
   ]
  },
  {
   "cell_type": "code",
   "execution_count": 13,
   "metadata": {},
   "outputs": [
    {
     "name": "stdout",
     "output_type": "stream",
     "text": [
      "8  43  22  43  \n",
      "40  23  61  84  \n",
      "70  80  40  18  \n",
      "58  57  56  26  \n",
      "\n",
      "49  97  72  77  \n",
      "60  5  90  54  \n",
      "34  44  24  62  \n",
      "5  87  49  16  \n",
      "\n",
      "57  140  94  120  \n",
      "100  28  151  138  \n",
      "104  124  64  80  \n",
      "63  144  105  42  \n",
      "\n"
     ]
    }
   ],
   "source": [
    "printlist(l1)\n",
    "print()\n",
    "printlist(l2)\n",
    "print()\n",
    "printlist(l)\n",
    "print()"
   ]
  },
  {
   "cell_type": "code",
   "execution_count": null,
   "metadata": {},
   "outputs": [],
   "source": []
  }
 ],
 "metadata": {
  "kernelspec": {
   "display_name": "Python 3",
   "language": "python",
   "name": "python3"
  },
  "language_info": {
   "codemirror_mode": {
    "name": "ipython",
    "version": 3
   },
   "file_extension": ".py",
   "mimetype": "text/x-python",
   "name": "python",
   "nbconvert_exporter": "python",
   "pygments_lexer": "ipython3",
   "version": "3.7.4"
  }
 },
 "nbformat": 4,
 "nbformat_minor": 4
}
