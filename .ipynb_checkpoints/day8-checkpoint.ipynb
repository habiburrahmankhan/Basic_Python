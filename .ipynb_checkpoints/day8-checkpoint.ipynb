{
 "cells": [
  {
   "cell_type": "markdown",
   "metadata": {},
   "source": [
    "### Exception Handling"
   ]
  },
  {
   "cell_type": "markdown",
   "metadata": {},
   "source": [
    "\n",
    "#### Python Exception\n",
    "- An exception can be defined as an unusual condition in a program resulting in the interruption in the flow of the program."
   ]
  },
  {
   "cell_type": "markdown",
   "metadata": {},
   "source": [
    "- ZeroDivisionError: Occurs when a number is divided by zero.\n",
    "- NameError: It occurs when a name is not found. It may be local or global.\n",
    "- IndentationError: If incorrect indentation is given.\n",
    "- IOError: It occurs when Input Output operation fails.\n",
    "- EOFError: It occurs when the end of the file is reached, and yet operations are being performed."
   ]
  },
  {
   "cell_type": "code",
   "execution_count": 8,
   "metadata": {},
   "outputs": [
    {
     "name": "stdin",
     "output_type": "stream",
     "text": [
      "Enter a: 1\n",
      "Enter b: 1\n"
     ]
    },
    {
     "name": "stdout",
     "output_type": "stream",
     "text": [
      "a/b =   1.0\n",
      "Hi I am other part of the program\n"
     ]
    }
   ],
   "source": [
    "a = int(input(\"Enter a:\"))    \n",
    "b = int(input(\"Enter b:\"))    \n",
    "c = a/b  \n",
    "print(\"a/b =  \" ,  c)    \n",
    "    \n",
    "#other code:    \n",
    "print(\"Hi I am other part of the program\")"
   ]
  },
  {
   "cell_type": "raw",
   "metadata": {},
   "source": [
    "try:    \n",
    "    #block of code     \n",
    "    \n",
    "except Exception1:    \n",
    "    #block of code    \n",
    "    \n",
    "except Exception2:    \n",
    "    #block of code    \n",
    "    "
   ]
  },
  {
   "cell_type": "code",
   "execution_count": 11,
   "metadata": {},
   "outputs": [
    {
     "name": "stdin",
     "output_type": "stream",
     "text": [
      "Enter a: 1\n",
      "Enter b: 0\n"
     ]
    },
    {
     "name": "stdout",
     "output_type": "stream",
     "text": [
      "Can't divide with zero\n",
      "Hi I am other part of the program\n"
     ]
    }
   ],
   "source": [
    "try:  \n",
    "    a = int(input(\"Enter a:\"))    \n",
    "    b = int(input(\"Enter b:\"))    \n",
    "    c = a/b  \n",
    "except:  \n",
    "    print(\"Can't divide with zero\")\n",
    "print(\"Hi I am other part of the program\")"
   ]
  },
  {
   "cell_type": "code",
   "execution_count": 13,
   "metadata": {},
   "outputs": [
    {
     "name": "stdin",
     "output_type": "stream",
     "text": [
      "Enter a: 1\n",
      "Enter b: 0\n"
     ]
    },
    {
     "name": "stdout",
     "output_type": "stream",
     "text": [
      "can't divide by zero\n",
      "<class 'Exception'>\n"
     ]
    }
   ],
   "source": [
    "try:    \n",
    "    a = int(input(\"Enter a:\"))    \n",
    "    b = int(input(\"Enter b:\"))    \n",
    "    c = a/b  \n",
    "    print(\"a/b = %d\"%c)    \n",
    "# Using Exception with except statement. If we print(Exception) it will return exception class  \n",
    "except Exception:    \n",
    "    print(\"can't divide by zero\")    \n",
    "    print(Exception)  \n",
    "else:    \n",
    "    print(\"Hi I am else block\")     "
   ]
  },
  {
   "cell_type": "code",
   "execution_count": 15,
   "metadata": {},
   "outputs": [
    {
     "name": "stdin",
     "output_type": "stream",
     "text": [
      "Enter a: 1\n",
      "Enter b: 0\n"
     ]
    },
    {
     "name": "stdout",
     "output_type": "stream",
     "text": [
      "can't divide by zero\n"
     ]
    }
   ],
   "source": [
    "try:    \n",
    "    a = int(input(\"Enter a:\"))    \n",
    "    b = int(input(\"Enter b:\"))    \n",
    "    c = a/b;    \n",
    "    print(\"a/b = %d\"%c)    \n",
    "except:    \n",
    "    print(\"can't divide by zero\")    \n",
    "else:    \n",
    "    print(\"Hi I am else block\")  "
   ]
  },
  {
   "cell_type": "markdown",
   "metadata": {},
   "source": [
    "### Python file I/O "
   ]
  },
  {
   "cell_type": "raw",
   "metadata": {},
   "source": [
    "r -read\n",
    "w - write \n",
    "a- append"
   ]
  },
  {
   "cell_type": "code",
   "execution_count": 7,
   "metadata": {},
   "outputs": [],
   "source": [
    "f = open(\"adnan.txt\" , \"w\") \n",
    "f.write(\"python is an awesome language\")\n",
    "f.close()"
   ]
  },
  {
   "cell_type": "code",
   "execution_count": 9,
   "metadata": {},
   "outputs": [
    {
     "name": "stdout",
     "output_type": "stream",
     "text": [
      "\n"
     ]
    }
   ],
   "source": [
    "f = open(\"adnan.txt\" , \"r\") \n",
    "content = f.read()\n",
    "print(content)\n",
    "f.close()"
   ]
  },
  {
   "cell_type": "code",
   "execution_count": 9,
   "metadata": {},
   "outputs": [
    {
     "name": "stdin",
     "output_type": "stream",
     "text": [
      "ènter hr  1\n",
      "ènter hr  1\n"
     ]
    },
    {
     "name": "stdout",
     "output_type": "stream",
     "text": [
      "24.5\n"
     ]
    }
   ],
   "source": [
    "h = int(input(\"ènter hr \"))\n",
    "m = int(input(\"ènter hr \"))\n",
    "\n",
    "hh = h*30 + m*0.5\n",
    "mm = m*6\n",
    "ans = abs(hh - mm)\n",
    "\n",
    "if ans<=180:\n",
    "     print(ans) \n",
    "else:\n",
    "     print(360 - ans) \n"
   ]
  },
  {
   "cell_type": "markdown",
   "metadata": {},
   "source": [
    "## Stack  and Queue "
   ]
  },
  {
   "cell_type": "code",
   "execution_count": 13,
   "metadata": {},
   "outputs": [
    {
     "name": "stdout",
     "output_type": "stream",
     "text": [
      "1.append \n",
      "2.pop\n",
      "3.print queue \n",
      "4.quit \n"
     ]
    },
    {
     "name": "stdin",
     "output_type": "stream",
     "text": [
      " 2\n"
     ]
    },
    {
     "name": "stdout",
     "output_type": "stream",
     "text": [
      "que is empty\n"
     ]
    },
    {
     "name": "stdin",
     "output_type": "stream",
     "text": [
      " 1\n",
      " 23\n",
      " 1\n",
      " 45\n",
      " 1\n",
      " 56\n",
      " 2\n"
     ]
    },
    {
     "name": "stdout",
     "output_type": "stream",
     "text": [
      "23\n"
     ]
    },
    {
     "name": "stdin",
     "output_type": "stream",
     "text": [
      " 3\n"
     ]
    },
    {
     "name": "stdout",
     "output_type": "stream",
     "text": [
      "[45, 56]\n"
     ]
    },
    {
     "name": "stdin",
     "output_type": "stream",
     "text": [
      " 1\n",
      " 46\n",
      " 3\n"
     ]
    },
    {
     "name": "stdout",
     "output_type": "stream",
     "text": [
      "[45, 56, 46]\n"
     ]
    },
    {
     "name": "stdin",
     "output_type": "stream",
     "text": [
      " 4\n"
     ]
    }
   ],
   "source": [
    "lque  = [ ]\n",
    "print(\"1.append \\n2.pop\\n3.print queue \\n4.quit \" )\n",
    "while True: \n",
    "    ch=int(input())\n",
    "    if ch==1:\n",
    "        no=int(input())\n",
    "        lque.append(no)\n",
    "    elif ch==2:\n",
    "        if len(lque)==0:\n",
    "            print(\"que is empty\")\n",
    "        else:  \n",
    "            print(lque.pop(0))\n",
    "    elif ch==3:\n",
    "        print(lque)\n",
    "    elif ch==4:\n",
    "        break\n",
    "    else:\n",
    "        print(\"Wrong choice\")"
   ]
  },
  {
   "cell_type": "code",
   "execution_count": 14,
   "metadata": {},
   "outputs": [
    {
     "name": "stdout",
     "output_type": "stream",
     "text": [
      "1.push \n",
      "2.pop\n",
      "3.print stack  \n",
      "4.quit \n"
     ]
    },
    {
     "name": "stdin",
     "output_type": "stream",
     "text": [
      " 1\n",
      " 23\n",
      " 1\n",
      " 45\n",
      " 1\n",
      " 56\n",
      " 3\n"
     ]
    },
    {
     "name": "stdout",
     "output_type": "stream",
     "text": [
      "[45, 56, 46, 23, 45, 56]\n"
     ]
    },
    {
     "name": "stdin",
     "output_type": "stream",
     "text": [
      " 2\n"
     ]
    },
    {
     "name": "stdout",
     "output_type": "stream",
     "text": [
      "56\n"
     ]
    },
    {
     "name": "stdin",
     "output_type": "stream",
     "text": [
      " 3\n"
     ]
    },
    {
     "name": "stdout",
     "output_type": "stream",
     "text": [
      "[45, 56, 46, 23, 45]\n"
     ]
    },
    {
     "name": "stdin",
     "output_type": "stream",
     "text": [
      " 2\n"
     ]
    },
    {
     "name": "stdout",
     "output_type": "stream",
     "text": [
      "45\n"
     ]
    },
    {
     "name": "stdin",
     "output_type": "stream",
     "text": [
      " 3\n"
     ]
    },
    {
     "name": "stdout",
     "output_type": "stream",
     "text": [
      "[45, 56, 46, 23]\n"
     ]
    },
    {
     "name": "stdin",
     "output_type": "stream",
     "text": [
      " 1\n",
      " 67\n",
      " 3\n"
     ]
    },
    {
     "name": "stdout",
     "output_type": "stream",
     "text": [
      "[45, 56, 46, 23, 67]\n"
     ]
    },
    {
     "name": "stdin",
     "output_type": "stream",
     "text": [
      " 4\n"
     ]
    }
   ],
   "source": [
    "stack  = [ ]\n",
    "print(\"1.push \\n2.pop\\n3.print stack  \\n4.quit \" )\n",
    "while True: \n",
    "    ch=int(input())\n",
    "    if ch==1:\n",
    "        no=int(input())\n",
    "        lque.append(no)\n",
    "    elif ch==2:\n",
    "        if len(lque)==0:\n",
    "            print(\"stack is empty\")\n",
    "        else:  \n",
    "            print(lque.pop())\n",
    "    elif ch==3:\n",
    "        print(lque)\n",
    "    elif ch==4:\n",
    "        break\n",
    "    else:\n",
    "        print(\"Wrong choice\")"
   ]
  },
  {
   "cell_type": "code",
   "execution_count": 3,
   "metadata": {},
   "outputs": [
    {
     "name": "stdin",
     "output_type": "stream",
     "text": [
      " 1\n",
      " 0\n"
     ]
    },
    {
     "name": "stdout",
     "output_type": "stream",
     "text": [
      "Zero \n",
      "i am in finally block \n"
     ]
    }
   ],
   "source": [
    "try:\n",
    "    a = int(input())\n",
    "    b = int(input())\n",
    "    c = a /b\n",
    "    print(c)\n",
    "except:\n",
    "    \n",
    "    print(\"Zero \")\n",
    "finally:\n",
    "    print(\"i am in finally block \")"
   ]
  },
  {
   "cell_type": "code",
   "execution_count": 6,
   "metadata": {},
   "outputs": [
    {
     "name": "stdout",
     "output_type": "stream",
     "text": [
      "file close succesfully\n"
     ]
    }
   ],
   "source": [
    "try:\n",
    "    f= open(\"adnan.java\" , \"a\")\n",
    "    f.write(\"hey look i am appending something \")\n",
    "    f.close()\n",
    "except:\n",
    "    print(\"error\")\n",
    "finally:\n",
    "    print(\"file close succesfully\")"
   ]
  },
  {
   "cell_type": "code",
   "execution_count": 14,
   "metadata": {},
   "outputs": [
    {
     "name": "stdout",
     "output_type": "stream",
     "text": [
      "hey look i am appending something \n",
      " hey \n",
      " how \n",
      " are \n",
      " yor \n",
      " grt\n",
      " we\n",
      " r file close succesfully\n"
     ]
    }
   ],
   "source": [
    "try:\n",
    "    f= open(\"adnan.java\" , \"r\")\n",
    "    f.seek(0)\n",
    "    for i in f:\n",
    "        print(i , end=\" \")\n",
    "    \n",
    "    f.close()\n",
    "except:\n",
    "    print(\"error\")\n",
    "finally:\n",
    "    print(\"file close succesfully\")"
   ]
  },
  {
   "cell_type": "code",
   "execution_count": 27,
   "metadata": {},
   "outputs": [
    {
     "name": "stdout",
     "output_type": "stream",
     "text": [
      "[11, 12, 13, 14, 15, 16]\n"
     ]
    }
   ],
   "source": [
    "f = open(\"input.txt\" , \"r\")\n",
    "l = []\n",
    "for i in f.readlines():\n",
    "    l.append(int(i))\n",
    "print(l)"
   ]
  },
  {
   "cell_type": "code",
   "execution_count": 1,
   "metadata": {},
   "outputs": [],
   "source": [
    "import pandas as pd\n"
   ]
  },
  {
   "cell_type": "code",
   "execution_count": 2,
   "metadata": {},
   "outputs": [
    {
     "name": "stdout",
     "output_type": "stream",
     "text": [
      "hypotenuse  =    5.0\n",
      "perpendicular  =    4.0\n",
      "base  =    3.0\n",
      "you know the ans\n",
      "not a right angle triangle \n"
     ]
    }
   ],
   "source": [
    "import math \n",
    "def pythagoras(base , perpendicular , hypotenuse):\n",
    "    if base==\"x\" or base == \"X\":\n",
    "        print(\"base  =   \" , math.sqrt( math.pow(hypotenuse , 2 ) - math.pow(perpendicular , 2 ) ))\n",
    "    elif perpendicular==\"x\" or perpendicular== \"X\":\n",
    "        print(\"perpendicular  =   \" , math.sqrt( math.pow(hypotenuse , 2 ) - math.pow(base, 2 ) ))\n",
    "    elif hypotenuse==\"x\" or hypotenuse== \"X\":\n",
    "        print(\"hypotenuse  =   \" , math.sqrt( math.pow(perpendicular , 2 ) + math.pow(base, 2 ) ))\n",
    "    elif  math.pow(perpendicular , 2 ) + math.pow(base, 2 ) == math.pow(hypotenuse, 2 ):\n",
    "        print(\"you know the ans\" )\n",
    "    else :\n",
    "        print(\"not a right angle triangle \")\n",
    "pythagoras(3,4,'x')\n",
    "pythagoras(3,'x',5)\n",
    "pythagoras('x',4,5)\n",
    "pythagoras(3,4,5)\n",
    "pythagoras(1,1,6)        "
   ]
  },
  {
   "cell_type": "code",
   "execution_count": 3,
   "metadata": {},
   "outputs": [
    {
     "name": "stdout",
     "output_type": "stream",
     "text": [
      "30.54.94\n"
     ]
    }
   ],
   "source": [
    "a = \"30.54,94\"\n",
    "x = len(a)\n",
    "i =0 \n",
    "while(i < x):\n",
    "    if a[i]=='.':\n",
    "        f = a.replace(a[i] , ',')\n",
    "        print(f)\n",
    "    elif a[i]==',':\n",
    "        f = a.replace(a[i] , '.')\n",
    "    i+=1\n",
    "print(f)"
   ]
  },
  {
   "cell_type": "code",
   "execution_count": null,
   "metadata": {},
   "outputs": [],
   "source": []
  }
 ],
 "metadata": {
  "kernelspec": {
   "display_name": "Python 3",
   "language": "python",
   "name": "python3"
  },
  "language_info": {
   "codemirror_mode": {
    "name": "ipython",
    "version": 3
   },
   "file_extension": ".py",
   "mimetype": "text/x-python",
   "name": "python",
   "nbconvert_exporter": "python",
   "pygments_lexer": "ipython3",
   "version": "3.7.4"
  }
 },
 "nbformat": 4,
 "nbformat_minor": 4
}
