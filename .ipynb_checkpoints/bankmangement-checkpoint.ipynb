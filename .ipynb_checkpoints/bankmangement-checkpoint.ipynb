{
 "cells": [
  {
   "cell_type": "markdown",
   "metadata": {},
   "source": [
    "# Bank Management System "
   ]
  },
  {
   "cell_type": "code",
   "execution_count": null,
   "metadata": {},
   "outputs": [],
   "source": []
  },
  {
   "cell_type": "code",
   "execution_count": null,
   "metadata": {},
   "outputs": [],
   "source": []
  },
  {
   "cell_type": "code",
   "execution_count": 3,
   "metadata": {},
   "outputs": [
    {
     "name": "stdin",
     "output_type": "stream",
     "text": [
      "Enter the id  habib\n",
      "Enter the password  1234\n"
     ]
    },
    {
     "name": "stdout",
     "output_type": "stream",
     "text": [
      "\tMAIN MENU\n",
      "\t1. NEW ACCOUNT\n",
      "\t2. DEPOSIT AMOUNT\n",
      "\t3. WITHDRAW AMOUNT\n",
      "\t4. BALANCE ENQUIRY\n",
      "\t5. ALL ACCOUNT HOLDER LIST\n",
      "\t6. Transfer From one Account to another \n",
      "\t7. total account in a bank  \n",
      "\t8. total money  in a bank\n",
      "\t9. EXIT\n",
      "\tSelect Your Option (1-8) \n"
     ]
    },
    {
     "name": "stdin",
     "output_type": "stream",
     "text": [
      " 1\n",
      "Enter the name  adnan\n",
      " Type S for saving or C for Current  S\n"
     ]
    },
    {
     "name": "stdout",
     "output_type": "stream",
     "text": [
      "Account is created ans account no is  9897841729\n",
      "\tMAIN MENU\n",
      "\t1. NEW ACCOUNT\n",
      "\t2. DEPOSIT AMOUNT\n",
      "\t3. WITHDRAW AMOUNT\n",
      "\t4. BALANCE ENQUIRY\n",
      "\t5. ALL ACCOUNT HOLDER LIST\n",
      "\t6. Transfer From one Account to another \n",
      "\t7. total account in a bank  \n",
      "\t8. total money  in a bank\n",
      "\t9. EXIT\n",
      "\tSelect Your Option (1-8) \n"
     ]
    },
    {
     "name": "stdin",
     "output_type": "stream",
     "text": [
      " 1\n",
      "Enter the name  abid\n",
      " Type S for saving or C for Current  S\n"
     ]
    },
    {
     "name": "stdout",
     "output_type": "stream",
     "text": [
      "Account is created ans account no is  9897886739\n",
      "\tMAIN MENU\n",
      "\t1. NEW ACCOUNT\n",
      "\t2. DEPOSIT AMOUNT\n",
      "\t3. WITHDRAW AMOUNT\n",
      "\t4. BALANCE ENQUIRY\n",
      "\t5. ALL ACCOUNT HOLDER LIST\n",
      "\t6. Transfer From one Account to another \n",
      "\t7. total account in a bank  \n",
      "\t8. total money  in a bank\n",
      "\t9. EXIT\n",
      "\tSelect Your Option (1-8) \n"
     ]
    },
    {
     "name": "stdin",
     "output_type": "stream",
     "text": [
      " 7\n"
     ]
    },
    {
     "name": "stdout",
     "output_type": "stream",
     "text": [
      "total account in a bank is    2\n",
      "\tMAIN MENU\n",
      "\t1. NEW ACCOUNT\n",
      "\t2. DEPOSIT AMOUNT\n",
      "\t3. WITHDRAW AMOUNT\n",
      "\t4. BALANCE ENQUIRY\n",
      "\t5. ALL ACCOUNT HOLDER LIST\n",
      "\t6. Transfer From one Account to another \n",
      "\t7. total account in a bank  \n",
      "\t8. total money  in a bank\n",
      "\t9. EXIT\n",
      "\tSelect Your Option (1-8) \n"
     ]
    },
    {
     "name": "stdin",
     "output_type": "stream",
     "text": [
      " 8\n"
     ]
    },
    {
     "name": "stdout",
     "output_type": "stream",
     "text": [
      "total amount in a bank  2000.0\n",
      "\tMAIN MENU\n",
      "\t1. NEW ACCOUNT\n",
      "\t2. DEPOSIT AMOUNT\n",
      "\t3. WITHDRAW AMOUNT\n",
      "\t4. BALANCE ENQUIRY\n",
      "\t5. ALL ACCOUNT HOLDER LIST\n",
      "\t6. Transfer From one Account to another \n",
      "\t7. total account in a bank  \n",
      "\t8. total money  in a bank\n",
      "\t9. EXIT\n",
      "\tSelect Your Option (1-8) \n"
     ]
    },
    {
     "name": "stdin",
     "output_type": "stream",
     "text": [
      " 2\n",
      "\tEnter The account No. :  9897886739\n",
      "\tEnter The amountt :  4500\n"
     ]
    },
    {
     "name": "stdout",
     "output_type": "stream",
     "text": [
      "deposit sucessfully\n",
      "\tMAIN MENU\n",
      "\t1. NEW ACCOUNT\n",
      "\t2. DEPOSIT AMOUNT\n",
      "\t3. WITHDRAW AMOUNT\n",
      "\t4. BALANCE ENQUIRY\n",
      "\t5. ALL ACCOUNT HOLDER LIST\n",
      "\t6. Transfer From one Account to another \n",
      "\t7. total account in a bank  \n",
      "\t8. total money  in a bank\n",
      "\t9. EXIT\n",
      "\tSelect Your Option (1-8) \n"
     ]
    },
    {
     "name": "stdin",
     "output_type": "stream",
     "text": [
      " 2\n",
      "\tEnter The account No. :  9897841729\n",
      "\tEnter The amountt :  3500\n"
     ]
    },
    {
     "name": "stdout",
     "output_type": "stream",
     "text": [
      "deposit sucessfully\n",
      "\tMAIN MENU\n",
      "\t1. NEW ACCOUNT\n",
      "\t2. DEPOSIT AMOUNT\n",
      "\t3. WITHDRAW AMOUNT\n",
      "\t4. BALANCE ENQUIRY\n",
      "\t5. ALL ACCOUNT HOLDER LIST\n",
      "\t6. Transfer From one Account to another \n",
      "\t7. total account in a bank  \n",
      "\t8. total money  in a bank\n",
      "\t9. EXIT\n",
      "\tSelect Your Option (1-8) \n"
     ]
    },
    {
     "name": "stdin",
     "output_type": "stream",
     "text": [
      " 6\n",
      "\tEnter Sender  account No. :  9897841729\n",
      "\tEnter Reciver  account No.  :  9897886739\n",
      "\tEnter The amountt :  275\n"
     ]
    },
    {
     "name": "stdout",
     "output_type": "stream",
     "text": [
      "transfer  sucessfully\n",
      "\tMAIN MENU\n",
      "\t1. NEW ACCOUNT\n",
      "\t2. DEPOSIT AMOUNT\n",
      "\t3. WITHDRAW AMOUNT\n",
      "\t4. BALANCE ENQUIRY\n",
      "\t5. ALL ACCOUNT HOLDER LIST\n",
      "\t6. Transfer From one Account to another \n",
      "\t7. total account in a bank  \n",
      "\t8. total money  in a bank\n",
      "\t9. EXIT\n",
      "\tSelect Your Option (1-8) \n"
     ]
    },
    {
     "name": "stdin",
     "output_type": "stream",
     "text": [
      " 5\n"
     ]
    },
    {
     "name": "stdout",
     "output_type": "stream",
     "text": [
      "name         account             balance               type \n",
      "adnan        9897841729        4225                  S\n",
      "name         account             balance               type \n",
      "abid        9897886739        5775                  S\n",
      "\tMAIN MENU\n",
      "\t1. NEW ACCOUNT\n",
      "\t2. DEPOSIT AMOUNT\n",
      "\t3. WITHDRAW AMOUNT\n",
      "\t4. BALANCE ENQUIRY\n",
      "\t5. ALL ACCOUNT HOLDER LIST\n",
      "\t6. Transfer From one Account to another \n",
      "\t7. total account in a bank  \n",
      "\t8. total money  in a bank\n",
      "\t9. EXIT\n",
      "\tSelect Your Option (1-8) \n"
     ]
    },
    {
     "name": "stdin",
     "output_type": "stream",
     "text": [
      " 9\n"
     ]
    },
    {
     "name": "stdout",
     "output_type": "stream",
     "text": [
      "\tThanks for using bank managemnt system\n"
     ]
    }
   ],
   "source": [
    "import random\n",
    "class Account:\n",
    "    def __init__(self , name , typeofacc):\n",
    "        self.name = name \n",
    "        self.typeofacc = typeofacc\n",
    "        self.balance = 1000\n",
    "        self.accountno= int( \"98978\" +  str(int(random.random()*100000) ) )\n",
    "    def get_acc(self):\n",
    "        return self.accountno\n",
    "    def get_name(self):\n",
    "        return self.name\n",
    "    def get_typeof(self):\n",
    "        return self.typeofacc\n",
    "    def get_balance(self):\n",
    "        return self.balance\n",
    "    def set_balance(self , amt ):\n",
    "        self.balance = amt\n",
    "    def set_name(self , n):\n",
    "        self.name = n\n",
    "    def set_type(self , ty):\n",
    "        self.typeofacc = ty\n",
    "    def info(self):\n",
    "        print(\"name         account             balance               type \" )\n",
    "        print(self.name , \"      \" , self.accountno ,\"      \" , self.balance ,\"                \" , self.typeofacc)\n",
    "\n",
    "class bankManagement:\n",
    "    def __init__(self ,E_id=\"habib\" , password =1234 ):\n",
    "        self.E_id = E_id\n",
    "        self.password = password\n",
    "        self.l = []\n",
    "    def withdraw(self  , acc , amt):\n",
    "        k = True\n",
    "        for i in self.l:\n",
    "            if i.get_acc()==acc :\n",
    "                if i.get_balance() >=amt:\n",
    "                    i.set_balance(i.get_balance()  - amt)\n",
    "                else:\n",
    "                    print(\"Low balance \")\n",
    "                k=False\n",
    "                break\n",
    "        if(k):\n",
    "            print(\"Account doesnot Exist \")\n",
    "    def deposit(self  , acc , amt):\n",
    "        k = True\n",
    "        for i in self.l:\n",
    "            if i.get_acc()==acc :\n",
    "                i.set_balance(i.get_balance()  + amt)    \n",
    "                k=False\n",
    "                break\n",
    "        if(k):\n",
    "            print(\"Account doesnot Exist \")\n",
    "    def total_acc_in_bank(self):\n",
    "        return len(self.l)\n",
    "    def info_acc(self , acc):\n",
    "        k  = True \n",
    "        for i in self.l:\n",
    "            if i.get_acc()==acc:\n",
    "                i.info()\n",
    "                k=False \n",
    "                break \n",
    "        if(k):\n",
    "            print(\"Account doesnot Exist \")\n",
    "    def info_all_acc(self):\n",
    "        for i in self.l:\n",
    "            i.info()\n",
    "    def transfer(self , accsender , accreciever , amt ):\n",
    "        S =True\n",
    "        R = False\n",
    "        for i in self.l:\n",
    "            if(i.get_acc()==accsender):\n",
    "                for j in self.l:\n",
    "                    if(j.get_acc()==accreciever):\n",
    "                        if i.get_balance() >=amt : \n",
    "                            j.set_balance(j.get_balance() + amt)\n",
    "                            i.set_balance(i.get_balance() - amt)\n",
    "                        else:\n",
    "                            print(\"Low Balance \")\n",
    "                        R = False\n",
    "                        break \n",
    "                if(R):\n",
    "                    print(\"Reciver account is not Exits \")\n",
    "                \n",
    "                \n",
    "                S=False \n",
    "                break \n",
    "        if(S):\n",
    "            print(\"Sender account is not Exits \")\n",
    "        \n",
    "    def total_amt_in_bank(self):\n",
    "        Sum = 0.0\n",
    "        for i in self.l:\n",
    "            Sum  += float(i.get_balance())\n",
    "        return Sum\n",
    " \n",
    "\n",
    "b = bankManagement()\n",
    "idd=\"\"\n",
    "passw = 0 \n",
    "while(1):\n",
    "    idd = input(\"Enter the id \")\n",
    "    passw = int(input(\"Enter the password \"))\n",
    "    if (idd==b.E_id and passw ==b.password):\n",
    "        break \n",
    "    \n",
    "    print(\"id || password is incorrect retry  \")\n",
    "ch = 0 \n",
    "while ch!=9:\n",
    "    print(\"\\tMAIN MENU\")\n",
    "    print(\"\\t1. NEW ACCOUNT\")\n",
    "    print(\"\\t2. DEPOSIT AMOUNT\")\n",
    "    print(\"\\t3. WITHDRAW AMOUNT\")\n",
    "    print(\"\\t4. BALANCE ENQUIRY\")\n",
    "    print(\"\\t5. ALL ACCOUNT HOLDER LIST\")\n",
    "    print(\"\\t6. Transfer From one Account to another \")\n",
    "    print(\"\\t7. total account in a bank  \")\n",
    "    print(\"\\t8. total money  in a bank\")\n",
    "    print(\"\\t9. EXIT\")\n",
    "    print(\"\\tSelect Your Option (1-8) \")\n",
    "    ch = int(input())\n",
    "    \n",
    "    if ch == 1:\n",
    "        n = input(\"Enter the name \")\n",
    "        t = input(\" Type S for saving or C for Current \")\n",
    "        A = Account(n , t)\n",
    "        b.l.append(A)\n",
    "        print(\"Account is created ans account no is \" ,A.get_acc())\n",
    "    elif ch ==2:\n",
    "        num = int(input(\"\\tEnter The account No. : \"))\n",
    "        amt = int(input(\"\\tEnter The amountt : \"))\n",
    "        b.deposit(num , amt)\n",
    "        print(\"deposit sucessfully\")\n",
    "        \n",
    "    elif ch == 3:\n",
    "        num = int(input(\"\\tEnter The account No. : \"))\n",
    "        amt = int(input(\"\\tEnter The amountt : \"))\n",
    "        b.withdraw(num , amt)\n",
    "        print(\"withdraw sucessfully\")\n",
    "    elif ch == 4:\n",
    "        num = int(input(\"\\tEnter The account No. : \"))\n",
    "        b.info_acc(num)\n",
    "    elif ch == 5:\n",
    "        b.info_all_acc()   \n",
    "    elif ch == 6:\n",
    "        num1 = int(input(\"\\tEnter Sender  account No. : \"))\n",
    "        num2 = int(input(\"\\tEnter Reciver  account No.  : \"))\n",
    "        amt = int(input(\"\\tEnter The amountt : \"))\n",
    "        b.transfer(num1 , num2  , amt )\n",
    "        print(\"transfer  sucessfully\")\n",
    "    elif ch == 7:\n",
    "        print(\"total account in a bank is   \"   , b.total_acc_in_bank())\n",
    "    elif ch == 8:\n",
    "        print(\"total amount in a bank \" , b.total_amt_in_bank())\n",
    "    elif ch == 9:\n",
    "        print(\"\\tThanks for using bank managemnt system\")\n",
    "        break\n",
    "    else :\n",
    "        print(\"Invalid choice\")"
   ]
  },
  {
   "cell_type": "code",
   "execution_count": 14,
   "metadata": {},
   "outputs": [],
   "source": []
  },
  {
   "cell_type": "code",
   "execution_count": null,
   "metadata": {},
   "outputs": [],
   "source": []
  },
  {
   "cell_type": "code",
   "execution_count": null,
   "metadata": {},
   "outputs": [],
   "source": []
  },
  {
   "cell_type": "code",
   "execution_count": null,
   "metadata": {},
   "outputs": [],
   "source": []
  }
 ],
 "metadata": {
  "kernelspec": {
   "display_name": "Python 3",
   "language": "python",
   "name": "python3"
  },
  "language_info": {
   "codemirror_mode": {
    "name": "ipython",
    "version": 3
   },
   "file_extension": ".py",
   "mimetype": "text/x-python",
   "name": "python",
   "nbconvert_exporter": "python",
   "pygments_lexer": "ipython3",
   "version": "3.7.4"
  }
 },
 "nbformat": 4,
 "nbformat_minor": 4
}
