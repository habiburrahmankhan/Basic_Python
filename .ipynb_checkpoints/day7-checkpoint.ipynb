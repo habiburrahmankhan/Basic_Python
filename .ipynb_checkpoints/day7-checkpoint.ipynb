{
 "cells": [
  {
   "cell_type": "markdown",
   "metadata": {},
   "source": [
    "- Count the no of element of list "
   ]
  },
  {
   "cell_type": "code",
   "execution_count": 15,
   "metadata": {},
   "outputs": [
    {
     "name": "stdout",
     "output_type": "stream",
     "text": [
      "{1: 1, 4: 2, 5: 2, 7: 2, 6: 2, 2: 1, 3: 1, 77: 1, 11: 5}\n"
     ]
    }
   ],
   "source": [
    "l = [1, 4 ,5 ,7 , 6,  2, 3, 4, 5, 6, 7, 77 , 11 , 11 ,11, 11 ,11 ]\n",
    "d = { }\n",
    "for i in l:\n",
    "    if i in d:\n",
    "        d[i] = d[i] +  1\n",
    "    else:\n",
    "        d[i] =1 \n",
    "print(d)"
   ]
  },
  {
   "cell_type": "code",
   "execution_count": 16,
   "metadata": {},
   "outputs": [],
   "source": [
    "string =\"Lorem Ipsum is simply dummy text ol = [1, 4 ,5 ,7 , 6,  2, 3, 4, 5, 6, 7, 77 , 11 , 11 ,11, 11 ,11 ]\n",
    "d = { }\n",
    "for i in l:\n",
    "    if i in d:\n",
    "        d[i] = d[i] +  1\n",
    "    else:\n",
    "        d[i] =1 \n",
    "print(d)f the printing and typesetting industry. Lorem Ipsum has been the industry's standard dummy text ever since the 1500s, when an unknown printer took a galley of type and scrambled it to make a type specimen book.\""
   ]
  },
  {
   "cell_type": "code",
   "execution_count": 17,
   "metadata": {},
   "outputs": [
    {
     "name": "stdout",
     "output_type": "stream",
     "text": [
      "Lorem Ipsum is simply dummy text of the printing and typesetting industry. Lorem Ipsum has been the industry's standard dummy text ever since the 1500s, when an unknown printer took a galley of type and scrambled it to make a type specimen book.\n"
     ]
    }
   ],
   "source": [
    "print(string)"
   ]
  },
  {
   "cell_type": "code",
   "execution_count": 18,
   "metadata": {},
   "outputs": [
    {
     "name": "stdout",
     "output_type": "stream",
     "text": [
      "{1: 1, 4: 2, 5: 2, 7: 2, 6: 2, 2: 1, 3: 1, 77: 1, 11: 5, 'L': 2, 'o': 10, 'r': 10, 'e': 23, 'm': 12, ' ': 42, 'I': 2, 'p': 9, 's': 14, 'u': 7, 'i': 11, 'l': 4, 'y': 9, 'd': 9, 't': 20, 'x': 2, 'f': 2, 'h': 5, 'n': 17, 'g': 3, 'a': 11, '.': 2, 'b': 3, \"'\": 1, 'v': 1, 'c': 3, '1': 1, '5': 1, '0': 2, ',': 1, 'w': 2, 'k': 4}\n"
     ]
    }
   ],
   "source": [
    "for i in string:\n",
    "    if i in d:\n",
    "        d[i] = d[i] +  1\n",
    "    else:\n",
    "        d[i] =1 \n",
    "print(d)"
   ]
  },
  {
   "cell_type": "code",
   "execution_count": 25,
   "metadata": {},
   "outputs": [
    {
     "name": "stdout",
     "output_type": "stream",
     "text": [
      "[1, 2, 3, 4, 5, 6, 7, 8]\n"
     ]
    }
   ],
   "source": [
    "l1 = [1 , 2 ,3 ,4 ,5 ]\n",
    "l2 = [3 , 4 ,5 ,6 ,7 ,8 ]\n",
    "ans = l1 \n",
    "\n",
    "for i in l2:\n",
    "    k= True\n",
    "    for j in ans:\n",
    "        if j==i:\n",
    "            k= False\n",
    "            break\n",
    "    if(k):\n",
    "        ans.append(i)\n",
    "        \n",
    "print(ans)\n",
    "        "
   ]
  },
  {
   "cell_type": "markdown",
   "metadata": {},
   "source": [
    "- Object Oriented Programming (OOP) tends to be one of the major obstacles forbeginners when they are first starting to learn Python."
   ]
  },
  {
   "cell_type": "markdown",
   "metadata": {},
   "source": [
    "# In Python, *everything is an object*."
   ]
  },
  {
   "cell_type": "code",
   "execution_count": 26,
   "metadata": {},
   "outputs": [
    {
     "name": "stdout",
     "output_type": "stream",
     "text": [
      "<class 'int'>\n",
      "<class 'list'>\n"
     ]
    }
   ],
   "source": [
    "a = 6 \n",
    "l = []\n",
    "print(type(a))\n",
    "print(type(l))"
   ]
  },
  {
   "cell_type": "markdown",
   "metadata": {},
   "source": [
    "- class\n",
    "- Collection of objects is called class."
   ]
  },
  {
   "cell_type": "code",
   "execution_count": 28,
   "metadata": {},
   "outputs": [
    {
     "name": "stdout",
     "output_type": "stream",
     "text": [
      "<class 'dict'>\n",
      "<class 'int'>\n",
      "<class 'list'>\n",
      "<class 'tuple'>\n",
      "<class 'dict'>\n"
     ]
    }
   ],
   "source": [
    "a={}\n",
    "print(type(a))\n",
    "print (type(1))\n",
    "print (type([]))\n",
    "print (type(()))\n",
    "print (type({}))"
   ]
  },
  {
   "cell_type": "code",
   "execution_count": null,
   "metadata": {},
   "outputs": [],
   "source": [
    "\n",
    "    "
   ]
  },
  {
   "cell_type": "code",
   "execution_count": 39,
   "metadata": {},
   "outputs": [
    {
     "name": "stdout",
     "output_type": "stream",
     "text": [
      "2.0\n",
      "1.0\n",
      "0.6666666666666666\n",
      "0.5\n",
      "0.4\n",
      "0.3333333333333333\n",
      "0.25\n",
      "0 is in list \n",
      "0.25\n",
      "0.2857142857142857\n",
      "0.2222222222222222\n"
     ]
    }
   ],
   "source": [
    "l= [1 , 2 , 3 ,4 ,5 ,6 , 8 ,0 , 7 , 9  ]\n",
    "for i in l:\n",
    "    if i==0:\n",
    "        print(\"0 is in list \")\n",
    "    else: \n",
    "        a= 2/i\n",
    "    print(a)\n"
   ]
  },
  {
   "cell_type": "code",
   "execution_count": null,
   "metadata": {},
   "outputs": [],
   "source": []
  },
  {
   "cell_type": "code",
   "execution_count": null,
   "metadata": {},
   "outputs": [],
   "source": []
  }
 ],
 "metadata": {
  "kernelspec": {
   "display_name": "Python 3",
   "language": "python",
   "name": "python3"
  },
  "language_info": {
   "codemirror_mode": {
    "name": "ipython",
    "version": 3
   },
   "file_extension": ".py",
   "mimetype": "text/x-python",
   "name": "python",
   "nbconvert_exporter": "python",
   "pygments_lexer": "ipython3",
   "version": "3.7.4"
  }
 },
 "nbformat": 4,
 "nbformat_minor": 4
}
