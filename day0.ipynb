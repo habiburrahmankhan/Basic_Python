{
 "cells": [
  {
   "cell_type": "markdown",
   "metadata": {},
   "source": [
    "### python:-\n",
    "- Python is a high level ,interpreted,interacted,Object Oriented scripting language.\n"
   ]
  },
  {
   "cell_type": "markdown",
   "metadata": {},
   "source": [
    "### Charecteristic of python:-\n",
    "1. Platform independent \n",
    "2. Open source\n",
    "3.  Potable\n",
    "4. Scalable\n",
    "5. Dynamic typing \n",
    "6. Build in data type and tools.\n",
    "7. Automatic memory management \n",
    "\n",
    "### Everything in python is an object.\n",
    "\n",
    "- Created by Guido van Rossum in 1989. First released in 1991 from netherland .\n"
   ]
  },
  {
   "cell_type": "markdown",
   "metadata": {},
   "source": [
    "### Data types in Python :-\n"
   ]
  },
  {
   "cell_type": "markdown",
   "metadata": {},
   "source": [
    "- Numbers\n",
    "- Strings\n",
    "- List\n",
    "- Tuple\n",
    "- Dictionary\n",
    "- Set\n",
    "- Frozenset.\n"
   ]
  },
  {
   "cell_type": "markdown",
   "metadata": {},
   "source": [
    "                \n",
    "- Number:-\n",
    "- Integer\n",
    "- Float\n",
    "- Complex\n"
   ]
  },
  {
   "cell_type": "markdown",
   "metadata": {},
   "source": [
    "   Variables:-\n",
    "- Variables are nothing but reserved memory location to store values.(data types )  It means that when you Crete a variable you reserved some space in the memory.\n",
    "\n",
    "\n"
   ]
  },
  {
   "cell_type": "code",
   "execution_count": 4,
   "metadata": {},
   "outputs": [
    {
     "name": "stdout",
     "output_type": "stream",
     "text": [
      "15\n"
     ]
    }
   ],
   "source": [
    "a = 15 \n",
    "print(a)\n",
    "name = 12.5"
   ]
  },
  {
   "cell_type": "markdown",
   "metadata": {},
   "source": [
    "#### Numbers data types :-\n",
    "- Number data types store numeric values.\n",
    "- Numbers are immutable(un changeable ) data types.\n",
    "- Number are not iterable."
   ]
  },
  {
   "cell_type": "code",
   "execution_count": 9,
   "metadata": {},
   "outputs": [
    {
     "name": "stdout",
     "output_type": "stream",
     "text": [
      "<class 'int'>\n",
      "<class 'float'>\n",
      "<class 'complex'>\n"
     ]
    }
   ],
   "source": [
    "a = 15 \n",
    "b = 17.5 \n",
    "print(type(a))\n",
    "print(type(b))\n",
    "c = 13 + 12j \n",
    "d = 13 + 12j \n",
    "\n",
    "print(type(c))"
   ]
  },
  {
   "cell_type": "code",
   "execution_count": null,
   "metadata": {},
   "outputs": [],
   "source": []
  },
  {
   "cell_type": "markdown",
   "metadata": {},
   "source": [
    "Operators:-\n",
    "- arithmetic operator \n",
    "- Comparison operator\n",
    "- Logical operator\n",
    "- assignment operator\n",
    "- Membership operator\n",
    "- Identity operator\n",
    "- Bitwise operator\n"
   ]
  },
  {
   "cell_type": "code",
   "execution_count": null,
   "metadata": {},
   "outputs": [],
   "source": []
  },
  {
   "cell_type": "code",
   "execution_count": 3,
   "metadata": {},
   "outputs": [
    {
     "name": "stdout",
     "output_type": "stream",
     "text": [
      "0.8900000000000006\n",
      "<class 'float'>\n",
      "<class 'int'>\n",
      "<class 'complex'>\n",
      "(9+12j)\n",
      "this is hrkhan     hello this is hrkhan\n",
      "1\n",
      "4\n",
      "32\n",
      "-2\n",
      "7\n",
      "True\n",
      "True\n",
      "24\n",
      "23\n",
      "0.0\n",
      "5.0\n",
      "32.0\n",
      "1.0\n",
      "3.321928094887362\n",
      "1.0\n",
      "120\n",
      "2.0\n",
      "33.0\n"
     ]
    }
   ],
   "source": [
    "a=45.89\n",
    "b= 45\n",
    "c=a-b\n",
    "print(c)        ## 0.8900000000000006\n",
    "print(type(a))  ##   <class 'float'>\n",
    "print(type(b))   ##   <class 'int'>\n",
    "V=3.4J\n",
    "print(type(V))   ##    <class 'complex'>\n",
    "a= 3+5j\n",
    "b=6+7j\n",
    "print(a+b)    ##(9+12j)\n",
    "\n",
    "\n",
    "a = \"this is hrkhan \"\n",
    "b=\"    hello this is hrkhan\"\n",
    "c= a+b\n",
    "print(c)    ##this is hrkhan     hello this is hrkhan\n",
    "\n",
    "\n",
    "a=9\n",
    "b=2\n",
    "c=a%b\n",
    "d=a//b\n",
    "print(c)   ## 1\n",
    "print(d)   ## 4\n",
    "print(2**5)   ##  32\n",
    "a=5\n",
    "b=7\n",
    "a-=b\n",
    "print(a)  ##  -2\n",
    "print(b)  ## 7 \n",
    "a=\"python\"\n",
    "print(\"p\"in a)   ##True\n",
    "print(\"t\"in a )   ##  True\n",
    "\"\"\"importing module & library math \"\"\"\n",
    "import math\n",
    "##print(dir(math))  ## print all directory of maths\n",
    "print(math.ceil(23.4)) ## 24\n",
    "print(math.floor(23.4)) ## 23\n",
    "print(math.sin(0))     ##0.0\n",
    "print(math.sqrt(25))   ## 5\n",
    "print(math.pow(2,5))   ## 32\n",
    "print(math.log10(10))  ## 1\n",
    "print(math.log2(10))     ## 3.321928094887362\n",
    "print(math.log(10,10))   ##   1.0\n",
    "print(math.factorial(5))   ##  120\n",
    "print(math.gamma(3))     ##2.0\n",
    "print(math.copysign(-33,43))   ##33.0\n"
   ]
  },
  {
   "cell_type": "code",
   "execution_count": null,
   "metadata": {},
   "outputs": [],
   "source": []
  }
 ],
 "metadata": {
  "kernelspec": {
   "display_name": "Python 3",
   "language": "python",
   "name": "python3"
  },
  "language_info": {
   "codemirror_mode": {
    "name": "ipython",
    "version": 3
   },
   "file_extension": ".py",
   "mimetype": "text/x-python",
   "name": "python",
   "nbconvert_exporter": "python",
   "pygments_lexer": "ipython3",
   "version": "3.7.4"
  }
 },
 "nbformat": 4,
 "nbformat_minor": 4
}
