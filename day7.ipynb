{
 "cells": [
  {
   "cell_type": "markdown",
   "metadata": {},
   "source": [
    "- Count the no of element of list "
   ]
  },
  {
   "cell_type": "code",
   "execution_count": 1,
   "metadata": {},
   "outputs": [
    {
     "name": "stdout",
     "output_type": "stream",
     "text": [
      "{1: 1, 4: 2, 5: 2, 7: 2, 6: 2, 2: 1, 3: 1, 77: 1, 11: 5}\n"
     ]
    }
   ],
   "source": [
    "l = [1, 4 ,5 ,7 , 6,  2, 3, 4, 5, 6, 7, 77 , 11 , 11 ,11, 11 ,11 ]\n",
    "d = { }\n",
    "for i in l:\n",
    "    if i in d:\n",
    "        d[i] = d[i] +  1\n",
    "    else:\n",
    "        d[i] =1 \n",
    "print(d)"
   ]
  },
  {
   "cell_type": "code",
   "execution_count": 2,
   "metadata": {},
   "outputs": [
    {
     "name": "stdout",
     "output_type": "stream",
     "text": [
      "{'L': 2, 'o': 10, 'r': 10, 'e': 23, 'm': 12, ' ': 42, 'I': 2, 'p': 9, 's': 14, 'u': 7, 'i': 11, 'l': 4, 'y': 9, 'd': 9, 't': 20, 'x': 2, 'f': 2, 'h': 5, 'n': 17, 'g': 3, 'a': 11, '.': 2, 'b': 3, \"'\": 1, 'v': 1, 'c': 3, '1': 1, '5': 1, '0': 2, ',': 1, 'w': 2, 'k': 4}\n"
     ]
    }
   ],
   "source": [
    "string =\"Lorem Ipsum is simply dummy text of the printing and typesetting industry. Lorem Ipsum has been the industry's standard dummy text ever since the 1500s, when an unknown printer took a galley of type and scrambled it to make a type specimen book.\"\n",
    "\n",
    "d = { }\n",
    "for i in string:\n",
    "    if i in d:\n",
    "        d[i] = d[i] +  1\n",
    "    else:\n",
    "        d[i] =1 \n",
    "print(d)"
   ]
  },
  {
   "cell_type": "code",
   "execution_count": 3,
   "metadata": {},
   "outputs": [
    {
     "name": "stdout",
     "output_type": "stream",
     "text": [
      "Lorem Ipsum is simply dummy text of the printing and typesetting industry. Lorem Ipsum has been the industry's standard dummy text ever since the 1500s, when an unknown printer took a galley of type and scrambled it to make a type specimen book.\n"
     ]
    }
   ],
   "source": [
    "print(string)"
   ]
  },
  {
   "cell_type": "code",
   "execution_count": 4,
   "metadata": {},
   "outputs": [
    {
     "name": "stdout",
     "output_type": "stream",
     "text": [
      "{'l': 6, 'o': 10, 'r': 10, 'e': 23, 'm': 12, ' ': 42, 'i': 13, 'p': 9, 's': 14, 'u': 7, 'y': 9, 'd': 9, 't': 20, 'x': 2, 'f': 2, 'h': 5, 'n': 17, 'g': 3, 'a': 11, '.': 2, 'b': 3, \"'\": 1, 'v': 1, 'c': 3, '1': 1, '5': 1, '0': 2, ',': 1, 'w': 2, 'k': 4}\n"
     ]
    }
   ],
   "source": [
    "string = string.lower()\n",
    "d={}\n",
    "for i in string:\n",
    "    \n",
    "    if i in d:\n",
    "        d[i] = d[i] +  1\n",
    "    else:\n",
    "        d[i] =1 \n",
    "print(d)"
   ]
  },
  {
   "cell_type": "code",
   "execution_count": 5,
   "metadata": {},
   "outputs": [
    {
     "name": "stdout",
     "output_type": "stream",
     "text": [
      "[1, 2, 3, 4, 5, 6, 7, 8]\n"
     ]
    }
   ],
   "source": [
    "l1 = [1 , 2 ,3 ,4 ,5 ]\n",
    "l2 = [3 , 4 ,5 ,6 ,7 ,8 ]\n",
    "ans = l1 \n",
    "\n",
    "for i in l2:\n",
    "    k= True\n",
    "    for j in ans:\n",
    "        if j==i:\n",
    "            k= False\n",
    "            break\n",
    "    if(k):\n",
    "        ans.append(i)\n",
    "        \n",
    "print(ans)"
   ]
  },
  {
   "cell_type": "markdown",
   "metadata": {},
   "source": [
    "- WAP to sort the list according to the second element in the sub list"
   ]
  },
  {
   "cell_type": "code",
   "execution_count": 7,
   "metadata": {},
   "outputs": [
    {
     "name": "stdin",
     "output_type": "stream",
     "text": [
      "enter k  1\n"
     ]
    },
    {
     "name": "stdout",
     "output_type": "stream",
     "text": [
      "[[45, 1, 11], [17, 11, 656], [34, 12, 23], [67, 23, 34], [11, 24, 22], [22, 33, 121], [40, 41, 65]]\n"
     ]
    }
   ],
   "source": [
    "listt =  [[67, 23 , 34 ] ,[45,1 ,11 ], [40,41 , 65], [34 , 12 ,23 ],[ 22 , 33,121], [17 , 11,656 ],[11 , 24,22 ] ] \n",
    "i = 0 \n",
    "k = int(input(\"enter k \"))\n",
    "n = len(listt)\n",
    "while(i<n):\n",
    "    j=0\n",
    "    while(j <n- i -1):\n",
    "        if(listt[j][k]>listt[j+1][k]):\n",
    "            listt[j], listt[j+1] = listt[j+1], listt[j]\n",
    "        j+=1\n",
    "    i+=1\n",
    "print(listt)\n"
   ]
  },
  {
   "cell_type": "markdown",
   "metadata": {},
   "source": [
    "- WAP to replace all the occurences  of alphabet 'a' with '$' in the string "
   ]
  },
  {
   "cell_type": "code",
   "execution_count": 8,
   "metadata": {},
   "outputs": [
    {
     "name": "stdin",
     "output_type": "stream",
     "text": [
      " adnanna\n",
      " n\n"
     ]
    },
    {
     "name": "stdout",
     "output_type": "stream",
     "text": [
      "ad$a$$a\n"
     ]
    }
   ],
   "source": [
    "\n",
    "s = input()\n",
    "n = input()\n",
    "for i in range(len(s)):\n",
    "    if s[i]==n:\n",
    "        s = s[0:i] + \"$\"+ s[i+1:]\n",
    "print(s)"
   ]
  },
  {
   "cell_type": "code",
   "execution_count": null,
   "metadata": {},
   "outputs": [],
   "source": []
  },
  {
   "cell_type": "code",
   "execution_count": null,
   "metadata": {},
   "outputs": [],
   "source": []
  },
  {
   "cell_type": "markdown",
   "metadata": {},
   "source": [
    "- Object Oriented Programming (OOP) tends to be one of the major obstacles forbeginners when they are first starting to learn Python."
   ]
  },
  {
   "cell_type": "markdown",
   "metadata": {},
   "source": [
    "# In Python, *everything is an object*."
   ]
  },
  {
   "cell_type": "code",
   "execution_count": 9,
   "metadata": {},
   "outputs": [
    {
     "name": "stdout",
     "output_type": "stream",
     "text": [
      "<class 'int'>\n",
      "<class 'list'>\n"
     ]
    }
   ],
   "source": [
    "a = 6 \n",
    "l = []\n",
    "print(type(a))\n",
    "print(type(l))"
   ]
  },
  {
   "cell_type": "markdown",
   "metadata": {},
   "source": [
    "- class\n",
    "- Collection of objects is called class."
   ]
  },
  {
   "cell_type": "code",
   "execution_count": 10,
   "metadata": {},
   "outputs": [
    {
     "name": "stdout",
     "output_type": "stream",
     "text": [
      "<class 'dict'>\n",
      "<class 'int'>\n",
      "<class 'list'>\n",
      "<class 'tuple'>\n",
      "<class 'dict'>\n"
     ]
    }
   ],
   "source": [
    "a={}\n",
    "print(type(a))\n",
    "print (type(1))\n",
    "print (type([]))\n",
    "print (type(()))\n",
    "print (type({}))"
   ]
  },
  {
   "cell_type": "code",
   "execution_count": null,
   "metadata": {},
   "outputs": [],
   "source": [
    "\n",
    "    "
   ]
  },
  {
   "cell_type": "code",
   "execution_count": null,
   "metadata": {},
   "outputs": [],
   "source": []
  },
  {
   "cell_type": "markdown",
   "metadata": {},
   "source": [
    "### global vs local "
   ]
  },
  {
   "cell_type": "code",
   "execution_count": 11,
   "metadata": {},
   "outputs": [
    {
     "name": "stdout",
     "output_type": "stream",
     "text": [
      "in fun  10 10\n",
      "out of fn  10\n"
     ]
    }
   ],
   "source": [
    "a = 10\n",
    "b = 5 \n",
    "def demo():\n",
    "    a = globals()[\"a\"]\n",
    "    # global a \n",
    "    print(\"in fun \"  ,a , a )\n",
    "demo()\n",
    "print(\"out of fn \" , a)"
   ]
  },
  {
   "cell_type": "markdown",
   "metadata": {},
   "source": [
    "# OOPs "
   ]
  },
  {
   "cell_type": "raw",
   "metadata": {},
   "source": [
    "object :  - \n",
    "    attributes  -------->     variables \n",
    "    behaviour  ------>    method ---> function \n"
   ]
  },
  {
   "cell_type": "code",
   "execution_count": 12,
   "metadata": {},
   "outputs": [
    {
     "name": "stdout",
     "output_type": "stream",
     "text": [
      "<class 'int'>\n"
     ]
    }
   ],
   "source": [
    "a = 15 \n",
    "print(type(a))"
   ]
  },
  {
   "cell_type": "code",
   "execution_count": 13,
   "metadata": {},
   "outputs": [
    {
     "name": "stdout",
     "output_type": "stream",
     "text": [
      "2\n"
     ]
    }
   ],
   "source": [
    "class Human:\n",
    "    leg = 2 \n",
    "    def __init__(self,name , age ):\n",
    "        self.name = name\n",
    "        self.age = age\n",
    "    def info(self):\n",
    "        print(\"hey  i amm \" ,  self.name  , \"   age \" , self.age)\n",
    "adnan = Human(\"adnan\" ,21)\n",
    "abid = Human(\"abid\" , 20 )\n",
    "Human.leg = 2 \n",
    "print(abid.leg)"
   ]
  },
  {
   "cell_type": "code",
   "execution_count": 14,
   "metadata": {},
   "outputs": [
    {
     "name": "stdout",
     "output_type": "stream",
     "text": [
      "hey  i amm  adnan    age  21\n"
     ]
    }
   ],
   "source": [
    "adnan.info()"
   ]
  },
  {
   "cell_type": "markdown",
   "metadata": {},
   "source": [
    "- An **attribute** is a characteristic of an object.\n",
    "- A **method** is an operation we can perform with the object.\n"
   ]
  },
  {
   "cell_type": "markdown",
   "metadata": {},
   "source": [
    "- For example we can create a class called Dog. \n",
    "- An attribute of a dog may be its breed or its name,  \n",
    "- while a method of a dog may be defined by a .bark()  method which returns a sound.\n"
   ]
  },
  {
   "cell_type": "markdown",
   "metadata": {},
   "source": [
    "- Let's get a better understanding of attributes through an example.\n",
    "### Attributes\n",
    "- The syntax for creating an attribute is:\n",
    "### self.attribute = something\n",
    "\n",
    "- There is a special method called:\n",
    "\n",
    "-             __init__()\n",
    "- This method is used to initialize the attributes of an   object. \n"
   ]
  },
  {
   "cell_type": "code",
   "execution_count": null,
   "metadata": {},
   "outputs": [],
   "source": []
  },
  {
   "cell_type": "code",
   "execution_count": null,
   "metadata": {},
   "outputs": [],
   "source": []
  },
  {
   "cell_type": "code",
   "execution_count": null,
   "metadata": {},
   "outputs": [],
   "source": []
  },
  {
   "cell_type": "code",
   "execution_count": null,
   "metadata": {},
   "outputs": [],
   "source": []
  },
  {
   "cell_type": "code",
   "execution_count": null,
   "metadata": {},
   "outputs": [],
   "source": []
  }
 ],
 "metadata": {
  "kernelspec": {
   "display_name": "Python 3",
   "language": "python",
   "name": "python3"
  },
  "language_info": {
   "codemirror_mode": {
    "name": "ipython",
    "version": 3
   },
   "file_extension": ".py",
   "mimetype": "text/x-python",
   "name": "python",
   "nbconvert_exporter": "python",
   "pygments_lexer": "ipython3",
   "version": "3.7.4"
  }
 },
 "nbformat": 4,
 "nbformat_minor": 4
}
