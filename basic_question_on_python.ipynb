{
 "cells": [
  {
   "cell_type": "markdown",
   "metadata": {},
   "source": [
    "#### Question on list "
   ]
  },
  {
   "cell_type": "markdown",
   "metadata": {},
   "source": [
    "- WAP to find a largest no in a list without using max()\n",
    "- WAP to find the 2nd largest no in a list\n",
    "- WAP to generate random no from 1 to 20 and append them to the list\n",
    "- WAP to swap 1st and last value of the list\n",
    "- WAP to remove duplicate elements from a list\n",
    "- WAP to read a list of words and return the len of the longest word and also 2nd longest word\n",
    "- WAP to put even and odd elements in 2 different lists  example [1 , 3, 5, 7, 9 ] [2 , 4 ,6, 8 ,10]\n",
    "- WAP to create the list of tuples with first elemets as the number and 2nd element as the sqaure of the 1st element\n",
    "- WAP to merge two list and sort using with sort() function  and withoutusing inbuild  sort()\n",
    "- WAP to sort the list according to the second element in the sub list\n",
    "- WAP to sort a list using bubble sort method\n",
    "- WAP to sort a list according to lenght of the elements\n",
    "- WAP to find the union of list\n",
    "- WAP to find the intersection of two list\n",
    "- WAP to search in a list  in log time \n",
    "- WAP to add 1 in list; Input: [1,2,3] Output: [1,2,4] Explanation: The array represents the integer 123 Input: [9,9,9] Output: [1,0,0,0] Explanation: The array represents the integer 999 ."
   ]
  },
  {
   "cell_type": "markdown",
   "metadata": {},
   "source": [
    "#### Question on String "
   ]
  },
  {
   "cell_type": "markdown",
   "metadata": {},
   "source": [
    "- WAP to replace all the occurences  of alphabet 'a' with '$' in the string [ input --> adnan , output-->$dn$n ] \n",
    "- WAP to delect if two strings are in anagrams\n",
    "- WAP to count a no of vowels in a str\n",
    "- WAP to form a new str where the 1st chara and the last chara have been exchanged\n",
    "- WAP to take a str and replace every blank space with a '-'\n",
    "- WAP to calculate the lengh of the str without using len fun\n",
    "- WAP to remove the chara of odd index values \n",
    "- WAP to calculate the no of words and no of charcters present in a str\n",
    "- WAP to take two str from the user and display the larger str without using built in function\n",
    "- WAP to count no of lowercase char in a str\n",
    "- WAP to check if a str is palindrome or not \n",
    "- WAP to calculate the no of uppercase letters and lowercase letters in a str\n",
    "- WAP to accept a '-' seperated sequence of words as inputs and print the words in a '-' separated sequence after sorting them in alphabetically\n",
    "- WAP to check if a sub-string is present in a given str\n",
    "- WAP to count the occurences of each word of the given str sentences\n",
    "- WAP to form a new str made of first two and last two characters of a given str"
   ]
  },
  {
   "cell_type": "markdown",
   "metadata": {},
   "source": [
    "#### Question on dictionary "
   ]
  },
  {
   "cell_type": "markdown",
   "metadata": {},
   "source": [
    "- WAP to add key value pair to the dictionary\n",
    "- WAP to concatenate two dictionary into one \n",
    "- WAP to check given key exist in a dictionary or not\n",
    "- WAP to generate a dictionary that contains no \"between 1 to n\" in the form of (x: x*x)(2:4)\n",
    "- WAP to sum all the elements in a dictionary\n",
    "- WAP to multiple all the items in a dictionary\n",
    "- WAP to remove a given key from a dictionary\n",
    "- WAP to map two list in a dictionary without func map()\n",
    "- WAP to create a dictionary with key as first chara and value as words starting with that chara\n"
   ]
  },
  {
   "cell_type": "markdown",
   "metadata": {},
   "source": [
    "#### Question on Set"
   ]
  },
  {
   "cell_type": "markdown",
   "metadata": {},
   "source": [
    "- WAP to count number of vowels present in a str using strs\n",
    "- WAP to count common letters into 2 input str\n",
    "- WAP that displays which letters are in the first str but not in the second\n",
    "- WAP which letters r present in both the strs \n",
    "- WAP that displays which letters r in the two strs but not in both"
   ]
  },
  {
   "cell_type": "code",
   "execution_count": null,
   "metadata": {},
   "outputs": [],
   "source": []
  },
  {
   "cell_type": "code",
   "execution_count": null,
   "metadata": {},
   "outputs": [],
   "source": []
  }
 ],
 "metadata": {
  "kernelspec": {
   "display_name": "Python 3",
   "language": "python",
   "name": "python3"
  },
  "language_info": {
   "codemirror_mode": {
    "name": "ipython",
    "version": 3
   },
   "file_extension": ".py",
   "mimetype": "text/x-python",
   "name": "python",
   "nbconvert_exporter": "python",
   "pygments_lexer": "ipython3",
   "version": "3.7.4"
  }
 },
 "nbformat": 4,
 "nbformat_minor": 4
}
